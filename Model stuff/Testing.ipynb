{
 "cells": [
  {
   "cell_type": "code",
   "execution_count": 39,
   "metadata": {},
   "outputs": [],
   "source": [
    "\n",
    "import boto3\n",
    "import pandas as pd\n",
    "from pandas import json_normalize\n",
    "import ast\n",
    "import json\n",
    "from decimal import Decimal\n",
    "from datetime import date\n",
    "from datetime import timedelta\n",
    "import time\n",
    "import numpy as np\n",
    "from sklearn.model_selection import train_test_split\n",
    "from sklearn.preprocessing import StandardScaler\n",
    "from tensorflow.keras.models import Sequential\n",
    "from tensorflow.keras.layers import Dense\n",
    "from tensorflow.keras.optimizers import Adam\n",
    "\n",
    "import matplotlib.pyplot as plt\n",
    "import seaborn as sns\n",
    "from sklearn.linear_model import LogisticRegression\n",
    "from sklearn.metrics import classification_report, confusion_matrix, accuracy_score\n",
    "import gc\n",
    "from keras.callbacks import Callback\n",
    "import pickle"
   ]
  },
  {
   "cell_type": "code",
   "execution_count": 36,
   "metadata": {},
   "outputs": [],
   "source": [
    "pd.set_option('display.max_columns', None)"
   ]
  },
  {
   "cell_type": "code",
   "execution_count": null,
   "metadata": {},
   "outputs": [],
   "source": [
    "\n",
    "\n",
    "# Configure your AWS credentials and region\n",
    "aws_access_key_id = super_secrets.Access_key_ID\n",
    "aws_secret_access_key = super_secrets.Secret_access_key\n",
    "aws_region = super_secrets.aws_region\n",
    "\n",
    "table_name='nhl_events'\n",
    "\n",
    "# Initialize the DynamoDB client\n",
    "dynamodb = boto3.resource('dynamodb',\n",
    "                          aws_access_key_id=aws_access_key_id,\n",
    "                          aws_secret_access_key=aws_secret_access_key,\n",
    "                          region_name=aws_region)\n",
    "\n",
    "# Get the table object\n",
    "table = dynamodb.Table(table_name)\n",
    "\n",
    "\n"
   ]
  },
  {
   "cell_type": "code",
   "execution_count": null,
   "metadata": {},
   "outputs": [],
   "source": [
    "def scan_table(table):\n",
    "    items = []\n",
    "    response = None\n",
    "    while response is None or 'LastEvaluatedKey' in response:\n",
    "        if response is not None and 'LastEvaluatedKey' in response:\n",
    "            response = table.scan(ExclusiveStartKey=response['LastEvaluatedKey'])\n",
    "        else:\n",
    "            response = table.scan()\n",
    "        items.extend(response['Items'])\n",
    "    return items"
   ]
  },
  {
   "cell_type": "code",
   "execution_count": null,
   "metadata": {},
   "outputs": [],
   "source": [
    "def safe_eval(s):\n",
    "    try:\n",
    "        return eval(s)\n",
    "    except Exception as e:\n",
    "        print(f\"Error evaluating string: {s}. Error: {e}\")\n",
    "        return None"
   ]
  },
  {
   "cell_type": "code",
   "execution_count": null,
   "metadata": {},
   "outputs": [],
   "source": [
    "def convert_decimal_to_float(x):\n",
    "    if isinstance(x, Decimal):\n",
    "        return float(x)\n",
    "    return x"
   ]
  },
  {
   "cell_type": "code",
   "execution_count": null,
   "metadata": {},
   "outputs": [],
   "source": [
    "items = scan_table(table)\n",
    "df = pd.DataFrame(items)\n",
    "df.to_csv('out.csv', index=False)\n",
    "#df = pd.read_csv('out.csv')"
   ]
  },
  {
   "cell_type": "code",
   "execution_count": null,
   "metadata": {},
   "outputs": [],
   "source": [
    "df['result'] = df['result'].apply(safe_eval)\n",
    "df['about'] = df['about'].apply(safe_eval)\n",
    "df['team'] = df['team'].apply(safe_eval)\n",
    "df['coordinates'] = df['coordinates'].apply(safe_eval)"
   ]
  },
  {
   "cell_type": "code",
   "execution_count": null,
   "metadata": {},
   "outputs": [],
   "source": [
    "result = df['result'].apply(pd.Series)\n",
    "about = df['about'].apply(pd.Series)\n",
    "team = df['team'].apply(pd.Series)\n",
    "coordinates = df['coordinates'].apply(pd.Series)"
   ]
  },
  {
   "cell_type": "code",
   "execution_count": null,
   "metadata": {},
   "outputs": [],
   "source": [
    "df = df.join(result)\n",
    "df = df.join(about)\n",
    "df = df.join(team)\n",
    "df = df.join(coordinates)"
   ]
  },
  {
   "cell_type": "code",
   "execution_count": null,
   "metadata": {},
   "outputs": [],
   "source": [
    "df = df.drop(columns=['result','about','team','coordinates','players','link','eventCode','event','gameWinningGoal','eventId','periodType','ordinalNum','name'])\n"
   ]
  },
  {
   "cell_type": "code",
   "execution_count": null,
   "metadata": {},
   "outputs": [],
   "source": [
    "goals = df['goals'].apply(pd.Series)\n",
    "goals.rename(columns={'away':'goals_away','home':'goals_home'},inplace=True)\n",
    "df = df.join(goals)\n",
    "df = df.drop(columns=['goals'])"
   ]
  },
  {
   "cell_type": "code",
   "execution_count": null,
   "metadata": {},
   "outputs": [],
   "source": [
    "df=df.fillna(0)"
   ]
  },
  {
   "cell_type": "code",
   "execution_count": null,
   "metadata": {},
   "outputs": [],
   "source": [
    "df.to_csv('cleaned.csv', index=False,)"
   ]
  },
  {
   "cell_type": "code",
   "execution_count": null,
   "metadata": {},
   "outputs": [],
   "source": []
  },
  {
   "cell_type": "code",
   "execution_count": null,
   "metadata": {},
   "outputs": [],
   "source": []
  },
  {
   "cell_type": "code",
   "execution_count": null,
   "metadata": {},
   "outputs": [],
   "source": [
    "def time_string_to_minutes(time_string):\n",
    "    minutes, seconds = map(int, time_string.split(':'))\n",
    "    return minutes * 60 + seconds\n",
    "\n",
    "def datetime_to_minutes(datetime_obj):\n",
    "    unix_timestamp = datetime_obj.timestamp()\n",
    "    return int(unix_timestamp // 60)"
   ]
  },
  {
   "cell_type": "code",
   "execution_count": null,
   "metadata": {},
   "outputs": [],
   "source": [
    "df['time_left_in_period'] = df['periodTimeRemaining'].apply(time_string_to_minutes)\n",
    "df['dateTime'] = pd.to_datetime(df['dateTime'])\n",
    "df['epoch_time'] = df['dateTime'].apply(lambda dt: int(dt.timestamp()))"
   ]
  },
  {
   "cell_type": "code",
   "execution_count": null,
   "metadata": {},
   "outputs": [],
   "source": [
    "df = df.drop(columns=['periodTime','periodTimeRemaining'])\n",
    "df['Home_Shots']=0\n",
    "df['Away_Shots']=0\n",
    "df['Home_Faceoffs']=0\n",
    "df['Away_Faceoffs']=0\n",
    "df['Home_blocked_shots']=0\n",
    "df['Away_blocked_shots']=0\n",
    "df['Home_hits']=0\n",
    "df['Away_hits']=0\n",
    "df['Home_takeaway']=0\n",
    "df['Away_takeaway']=0\n",
    "df['Home_giveaway']=0\n",
    "df['Away_giveaway']=0\n",
    "df['Home_penalty_minutes']=0\n",
    "df['Away_penalty_minutes']=0"
   ]
  },
  {
   "cell_type": "code",
   "execution_count": null,
   "metadata": {},
   "outputs": [],
   "source": [
    "df = df.applymap(convert_decimal_to_float)"
   ]
  },
  {
   "cell_type": "code",
   "execution_count": null,
   "metadata": {},
   "outputs": [],
   "source": [
    "games_id=df[\"Game_ID\"].unique()"
   ]
  },
  {
   "cell_type": "code",
   "execution_count": null,
   "metadata": {},
   "outputs": [],
   "source": [
    "games_id=df[\"eventTypeId\"].unique()\n",
    "games_id"
   ]
  },
  {
   "cell_type": "code",
   "execution_count": null,
   "metadata": {},
   "outputs": [],
   "source": [
    "column_names = df.columns.tolist()\n",
    "new_df=pd.DataFrame(columns=column_names)\n",
    "\n",
    "\n",
    "\n",
    "counter4=0\n",
    "for i in games_id:\n",
    "    start_time = time.time()\n",
    "    games_df=df.loc[df['Game_ID'] == i].copy()\n",
    "    games_df.sort_values(by=['eventIdx'], inplace=True)\n",
    "    games_df.reset_index(drop=True, inplace=True)\n",
    "    counter4+=1\n",
    "    \n",
    "    \n",
    "    \n",
    "    for index, row in games_df.iterrows():\n",
    "        \n",
    "        if counter4 >= len(games_id):\n",
    "            break\n",
    "        else:\n",
    "            \n",
    "            if row['eventIdx'] == 0:\n",
    "                pass\n",
    "            else:\n",
    "                event_id=row['eventIdx']\n",
    "                previous = games_df.loc[index-1]\n",
    "                Homeshot=previous['Home_Shots']\n",
    "                Awayshot=previous['Away_Shots']\n",
    "                Home_faceoff=previous['Home_Faceoffs']\n",
    "                Away_faceoff=previous['Away_Faceoffs']\n",
    "                Home_Blocked=previous['Home_blocked_shots']\n",
    "                Away_Blocked=previous['Away_blocked_shots']\n",
    "                Home_Hits=previous['Home_hits']\n",
    "                Away_Hits=previous['Away_hits']\n",
    "                Home_tw=previous['Home_takeaway']\n",
    "                Away_tw=previous['Away_takeaway']\n",
    "                Home_gw=previous['Home_giveaway']\n",
    "                Away_gw=previous['Away_giveaway']\n",
    "                Home_pim=previous['Home_penalty_minutes']\n",
    "                Away_pim=previous['Away_penalty_minutes']\n",
    "                if (row['eventTypeId']) == 'SHOT' or (row['eventTypeId']) == 'MISSED_SHOT':\n",
    "                    if row['id'] == row['home']:\n",
    "                        Homeshot+=1\n",
    "                    else:\n",
    "                        Awayshot+=1\n",
    "\n",
    "                elif (row['eventTypeId']) == 'FACEOFF':\n",
    "                    if row['id'] == row['home']:\n",
    "                        Home_faceoff+=1\n",
    "                    else:\n",
    "                        Away_faceoff+=1 \n",
    "\n",
    "                elif (row['eventTypeId']) == 'BLOCKED_SHOT':\n",
    "                    if row['id'] == row['home']:\n",
    "                        Home_Blocked+=1\n",
    "                    else:\n",
    "                        Away_Blocked+=1  \n",
    "\n",
    "                elif (row['eventTypeId']) == 'TAKEAWAY':\n",
    "                    if row['id'] == row['home']:\n",
    "                        Home_tw+=1\n",
    "                    else:\n",
    "                        Away_tw+=1  \n",
    "\n",
    "                elif (row['eventTypeId']) == 'HIT':\n",
    "                    if row['id'] == row['home']:\n",
    "                        Home_Hits+=1\n",
    "                    else:\n",
    "                        Away_Hits+=1  \n",
    "\n",
    "                elif (row['eventTypeId']) == 'GIVEAWAY':\n",
    "                    if row['id'] == row['home']:\n",
    "                        Home_gw+=1\n",
    "                    else:\n",
    "                        Away_gw+=1\n",
    "\n",
    "                elif (row['eventTypeId']) == 'PENALTY':\n",
    "                    if row['id'] == row['home']:\n",
    "                        Home_pim+=row['penaltyMinutes']\n",
    "                    else:\n",
    "                        Away_pim+=row['penaltyMinutes']\n",
    "\n",
    "                else:\n",
    "                    pass\n",
    "                games_df.at[index,'Home_Shots']=Homeshot\n",
    "                games_df.at[index,'Away_Shots']=Awayshot\n",
    "                games_df.at[index,'Home_Faceoffs']=Home_faceoff\n",
    "                games_df.at[index,'Away_Faceoffs']=Away_faceoff\n",
    "                games_df.at[index,'Home_blocked_shots']=Home_Blocked\n",
    "                games_df.at[index,'Away_blocked_shots']=Away_Blocked\n",
    "                games_df.at[index,'Home_hits']=Home_Hits\n",
    "                games_df.at[index,'Away_hits']=Away_Hits\n",
    "                games_df.at[index,'Home_takeaway']=Home_tw\n",
    "                games_df.at[index,'Away_takeaway']=Away_tw\n",
    "                games_df.at[index,'Home_giveaway']=Home_gw\n",
    "                games_df.at[index,'Away_giveaway']=Away_gw\n",
    "                games_df.at[index,'Home_penalty_minutes']=Home_pim\n",
    "                games_df.at[index,'Away_penalty_minutes']=Away_pim\n",
    "    new_df=pd.concat([new_df, games_df])\n",
    "        \n",
    "    #new_df=pd.concat([new_df, games_df])\n",
    "    end_time = time.time()\n",
    "    cycle_time = end_time - start_time\n",
    "    print(f\"Cycle {counter4} took {cycle_time:.4f} seconds\")\n",
    " "
   ]
  },
  {
   "cell_type": "code",
   "execution_count": 15,
   "metadata": {},
   "outputs": [],
   "source": [
    "#new_df.to_csv('cleaned_added_columns.csv', index=False)\n",
    "new_df = pd.read_csv('cleaned_added_columns.csv')"
   ]
  },
  {
   "cell_type": "code",
   "execution_count": 16,
   "metadata": {},
   "outputs": [
    {
     "data": {
      "text/plain": "          season  Home_Win_Bool             UID game_type  away     Game_ID   \n224640  20172018              1  2017020223_239         R    15  2017020223  \\\n224689  20172018              1  2017020223_288         R    15  2017020223   \n224591  20172018              1  2017020223_190         R    15  2017020223   \n224590  20172018              1  2017020223_189         R    15  2017020223   \n224589  20172018              1  2017020223_188         R    15  2017020223   \n\n        home secondaryType                                      description   \n224640     7             0                     Dmitry Orlov hit Justin Falk  \\\n224689     7             0                                         Game End   \n224591     7             0                                   Goalie Stopped   \n224590     7    Wrist Shot    John Carlson Wrist Shot saved by Robin Lehner   \n224589     7             0  Ryan O'Reilly faceoff won against Alex Chiasson   \n\n       eventTypeId  penaltyMinutes penaltySeverity strength emptyNet   \n224640         HIT             0.0               0        0        0  \\\n224689    GAME_END             0.0               0        0        0   \n224591        STOP             0.0               0        0        0   \n224590        SHOT             0.0               0        0        0   \n224589     FACEOFF             0.0               0        0        0   \n\n        eventIdx                   dateTime  period    id triCode     x     y   \n224640     239.0  2017-11-08 02:16:05+00:00     3.0  15.0     WSH  97.0 -38.0  \\\n224689     288.0  2017-11-08 02:35:22+00:00     3.0   0.0       0   0.0   0.0   \n224591     190.0  2017-11-08 01:39:08+00:00     2.0   0.0       0   0.0   0.0   \n224590     189.0  2017-11-08 01:39:06+00:00     2.0  15.0     WSH  43.0 -35.0   \n224589     188.0  2017-11-08 01:38:44+00:00     2.0   7.0     BUF  69.0 -22.0   \n\n        goals_away  goals_home  time_left_in_period  epoch_time  Home_Shots   \n224640         1.0         2.0                  577  1510107365          37  \\\n224689         1.0         3.0                    0  1510108522          39   \n224591         1.0         1.0                   27  1510105148          29   \n224590         1.0         1.0                   29  1510105146          29   \n224589         1.0         1.0                   35  1510105124          29   \n\n        Away_Shots  Home_Faceoffs  Away_Faceoffs  Home_blocked_shots   \n224640          23             24             25                   7  \\\n224689          30             31             29                  12   \n224591          17             19             18                   7   \n224590          17             19             18                   7   \n224589          16             19             18                   7   \n\n        Away_blocked_shots  Home_hits  Away_hits  Home_takeaway   \n224640                   8         15         18              4  \\\n224689                   8         19         22              6   \n224591                   6         14         14              3   \n224590                   6         14         14              3   \n224589                   6         14         14              3   \n\n        Away_takeaway  Home_giveaway  Away_giveaway  Home_penalty_minutes   \n224640              5              7              7                     7  \\\n224689              5              7              7                     7   \n224591              4              7              7                     7   \n224590              4              7              7                     7   \n224589              4              7              7                     7   \n\n        Away_penalty_minutes  \n224640                    13  \n224689                    13  \n224591                     9  \n224590                     9  \n224589                     9  ",
      "text/html": "<div>\n<style scoped>\n    .dataframe tbody tr th:only-of-type {\n        vertical-align: middle;\n    }\n\n    .dataframe tbody tr th {\n        vertical-align: top;\n    }\n\n    .dataframe thead th {\n        text-align: right;\n    }\n</style>\n<table border=\"1\" class=\"dataframe\">\n  <thead>\n    <tr style=\"text-align: right;\">\n      <th></th>\n      <th>season</th>\n      <th>Home_Win_Bool</th>\n      <th>UID</th>\n      <th>game_type</th>\n      <th>away</th>\n      <th>Game_ID</th>\n      <th>home</th>\n      <th>secondaryType</th>\n      <th>description</th>\n      <th>eventTypeId</th>\n      <th>penaltyMinutes</th>\n      <th>penaltySeverity</th>\n      <th>strength</th>\n      <th>emptyNet</th>\n      <th>eventIdx</th>\n      <th>dateTime</th>\n      <th>period</th>\n      <th>id</th>\n      <th>triCode</th>\n      <th>x</th>\n      <th>y</th>\n      <th>goals_away</th>\n      <th>goals_home</th>\n      <th>time_left_in_period</th>\n      <th>epoch_time</th>\n      <th>Home_Shots</th>\n      <th>Away_Shots</th>\n      <th>Home_Faceoffs</th>\n      <th>Away_Faceoffs</th>\n      <th>Home_blocked_shots</th>\n      <th>Away_blocked_shots</th>\n      <th>Home_hits</th>\n      <th>Away_hits</th>\n      <th>Home_takeaway</th>\n      <th>Away_takeaway</th>\n      <th>Home_giveaway</th>\n      <th>Away_giveaway</th>\n      <th>Home_penalty_minutes</th>\n      <th>Away_penalty_minutes</th>\n    </tr>\n  </thead>\n  <tbody>\n    <tr>\n      <th>224640</th>\n      <td>20172018</td>\n      <td>1</td>\n      <td>2017020223_239</td>\n      <td>R</td>\n      <td>15</td>\n      <td>2017020223</td>\n      <td>7</td>\n      <td>0</td>\n      <td>Dmitry Orlov hit Justin Falk</td>\n      <td>HIT</td>\n      <td>0.0</td>\n      <td>0</td>\n      <td>0</td>\n      <td>0</td>\n      <td>239.0</td>\n      <td>2017-11-08 02:16:05+00:00</td>\n      <td>3.0</td>\n      <td>15.0</td>\n      <td>WSH</td>\n      <td>97.0</td>\n      <td>-38.0</td>\n      <td>1.0</td>\n      <td>2.0</td>\n      <td>577</td>\n      <td>1510107365</td>\n      <td>37</td>\n      <td>23</td>\n      <td>24</td>\n      <td>25</td>\n      <td>7</td>\n      <td>8</td>\n      <td>15</td>\n      <td>18</td>\n      <td>4</td>\n      <td>5</td>\n      <td>7</td>\n      <td>7</td>\n      <td>7</td>\n      <td>13</td>\n    </tr>\n    <tr>\n      <th>224689</th>\n      <td>20172018</td>\n      <td>1</td>\n      <td>2017020223_288</td>\n      <td>R</td>\n      <td>15</td>\n      <td>2017020223</td>\n      <td>7</td>\n      <td>0</td>\n      <td>Game End</td>\n      <td>GAME_END</td>\n      <td>0.0</td>\n      <td>0</td>\n      <td>0</td>\n      <td>0</td>\n      <td>288.0</td>\n      <td>2017-11-08 02:35:22+00:00</td>\n      <td>3.0</td>\n      <td>0.0</td>\n      <td>0</td>\n      <td>0.0</td>\n      <td>0.0</td>\n      <td>1.0</td>\n      <td>3.0</td>\n      <td>0</td>\n      <td>1510108522</td>\n      <td>39</td>\n      <td>30</td>\n      <td>31</td>\n      <td>29</td>\n      <td>12</td>\n      <td>8</td>\n      <td>19</td>\n      <td>22</td>\n      <td>6</td>\n      <td>5</td>\n      <td>7</td>\n      <td>7</td>\n      <td>7</td>\n      <td>13</td>\n    </tr>\n    <tr>\n      <th>224591</th>\n      <td>20172018</td>\n      <td>1</td>\n      <td>2017020223_190</td>\n      <td>R</td>\n      <td>15</td>\n      <td>2017020223</td>\n      <td>7</td>\n      <td>0</td>\n      <td>Goalie Stopped</td>\n      <td>STOP</td>\n      <td>0.0</td>\n      <td>0</td>\n      <td>0</td>\n      <td>0</td>\n      <td>190.0</td>\n      <td>2017-11-08 01:39:08+00:00</td>\n      <td>2.0</td>\n      <td>0.0</td>\n      <td>0</td>\n      <td>0.0</td>\n      <td>0.0</td>\n      <td>1.0</td>\n      <td>1.0</td>\n      <td>27</td>\n      <td>1510105148</td>\n      <td>29</td>\n      <td>17</td>\n      <td>19</td>\n      <td>18</td>\n      <td>7</td>\n      <td>6</td>\n      <td>14</td>\n      <td>14</td>\n      <td>3</td>\n      <td>4</td>\n      <td>7</td>\n      <td>7</td>\n      <td>7</td>\n      <td>9</td>\n    </tr>\n    <tr>\n      <th>224590</th>\n      <td>20172018</td>\n      <td>1</td>\n      <td>2017020223_189</td>\n      <td>R</td>\n      <td>15</td>\n      <td>2017020223</td>\n      <td>7</td>\n      <td>Wrist Shot</td>\n      <td>John Carlson Wrist Shot saved by Robin Lehner</td>\n      <td>SHOT</td>\n      <td>0.0</td>\n      <td>0</td>\n      <td>0</td>\n      <td>0</td>\n      <td>189.0</td>\n      <td>2017-11-08 01:39:06+00:00</td>\n      <td>2.0</td>\n      <td>15.0</td>\n      <td>WSH</td>\n      <td>43.0</td>\n      <td>-35.0</td>\n      <td>1.0</td>\n      <td>1.0</td>\n      <td>29</td>\n      <td>1510105146</td>\n      <td>29</td>\n      <td>17</td>\n      <td>19</td>\n      <td>18</td>\n      <td>7</td>\n      <td>6</td>\n      <td>14</td>\n      <td>14</td>\n      <td>3</td>\n      <td>4</td>\n      <td>7</td>\n      <td>7</td>\n      <td>7</td>\n      <td>9</td>\n    </tr>\n    <tr>\n      <th>224589</th>\n      <td>20172018</td>\n      <td>1</td>\n      <td>2017020223_188</td>\n      <td>R</td>\n      <td>15</td>\n      <td>2017020223</td>\n      <td>7</td>\n      <td>0</td>\n      <td>Ryan O'Reilly faceoff won against Alex Chiasson</td>\n      <td>FACEOFF</td>\n      <td>0.0</td>\n      <td>0</td>\n      <td>0</td>\n      <td>0</td>\n      <td>188.0</td>\n      <td>2017-11-08 01:38:44+00:00</td>\n      <td>2.0</td>\n      <td>7.0</td>\n      <td>BUF</td>\n      <td>69.0</td>\n      <td>-22.0</td>\n      <td>1.0</td>\n      <td>1.0</td>\n      <td>35</td>\n      <td>1510105124</td>\n      <td>29</td>\n      <td>16</td>\n      <td>19</td>\n      <td>18</td>\n      <td>7</td>\n      <td>6</td>\n      <td>14</td>\n      <td>14</td>\n      <td>3</td>\n      <td>4</td>\n      <td>7</td>\n      <td>7</td>\n      <td>7</td>\n      <td>9</td>\n    </tr>\n  </tbody>\n</table>\n</div>"
     },
     "execution_count": 16,
     "metadata": {},
     "output_type": "execute_result"
    }
   ],
   "source": [
    "new_df.sort_values(by=['Game_ID'], inplace=True)\n",
    "new_df.head()"
   ]
  },
  {
   "cell_type": "code",
   "execution_count": 16,
   "metadata": {},
   "outputs": [],
   "source": []
  },
  {
   "cell_type": "code",
   "execution_count": 17,
   "metadata": {},
   "outputs": [],
   "source": [
    "df_model=new_df[['Home_Win_Bool','season','game_type','away','home',\n",
    "                 'penaltyMinutes','penaltySeverity','eventIdx','period',\n",
    "                 'x','y','goals_away','goals_home',\n",
    "                 'time_left_in_period','epoch_time','Home_Shots','Away_Shots','Home_Faceoffs',\n",
    "                'Away_Faceoffs','Home_blocked_shots','Away_blocked_shots',\n",
    "                'Home_hits','Away_hits','Home_takeaway','Away_takeaway','Home_giveaway','Away_giveaway',\n",
    "                'Home_penalty_minutes','Away_penalty_minutes']]"
   ]
  },
  {
   "cell_type": "code",
   "execution_count": 17,
   "metadata": {},
   "outputs": [],
   "source": []
  },
  {
   "cell_type": "code",
   "execution_count": 53,
   "metadata": {},
   "outputs": [],
   "source": [
    "d_model_encoded=pd.get_dummies(df_model,columns=[\n",
    "                                                 'penaltySeverity','home','away','game_type'], dtype=float)"
   ]
  },
  {
   "cell_type": "code",
   "execution_count": 19,
   "metadata": {},
   "outputs": [],
   "source": [
    "d_model_encoded.to_csv('d_model_encoded5.csv', index=False)"
   ]
  },
  {
   "cell_type": "code",
   "execution_count": 54,
   "metadata": {},
   "outputs": [],
   "source": [
    "empty_df = pd.DataFrame(columns=d_model_encoded.columns)\n",
    "empty_df.to_csv('empty_df.csv', index=False)"
   ]
  },
  {
   "cell_type": "code",
   "execution_count": 55,
   "metadata": {},
   "outputs": [
    {
     "data": {
      "text/plain": "        Home_Win_Bool    season  penaltyMinutes  eventIdx  period     x     y   \n224640              1  20172018             0.0     239.0     3.0  97.0 -38.0  \\\n224689              1  20172018             0.0     288.0     3.0   0.0   0.0   \n224591              1  20172018             0.0     190.0     2.0   0.0   0.0   \n224590              1  20172018             0.0     189.0     2.0  43.0 -35.0   \n224589              1  20172018             0.0     188.0     2.0  69.0 -22.0   \n\n        goals_away  goals_home  time_left_in_period  epoch_time  Home_Shots   \n224640         1.0         2.0                  577  1510107365          37  \\\n224689         1.0         3.0                    0  1510108522          39   \n224591         1.0         1.0                   27  1510105148          29   \n224590         1.0         1.0                   29  1510105146          29   \n224589         1.0         1.0                   35  1510105124          29   \n\n        Away_Shots  Home_Faceoffs  Away_Faceoffs  Home_blocked_shots   \n224640          23             24             25                   7  \\\n224689          30             31             29                  12   \n224591          17             19             18                   7   \n224590          17             19             18                   7   \n224589          16             19             18                   7   \n\n        Away_blocked_shots  Home_hits  Away_hits  Home_takeaway   \n224640                   8         15         18              4  \\\n224689                   8         19         22              6   \n224591                   6         14         14              3   \n224590                   6         14         14              3   \n224589                   6         14         14              3   \n\n        Away_takeaway  Home_giveaway  Away_giveaway  Home_penalty_minutes   \n224640              5              7              7                     7  \\\n224689              5              7              7                     7   \n224591              4              7              7                     7   \n224590              4              7              7                     7   \n224589              4              7              7                     7   \n\n        Away_penalty_minutes  penaltySeverity_0  penaltySeverity_Bench Minor   \n224640                    13                1.0                          0.0  \\\n224689                    13                1.0                          0.0   \n224591                     9                1.0                          0.0   \n224590                     9                1.0                          0.0   \n224589                     9                1.0                          0.0   \n\n        penaltySeverity_Game Misconduct  penaltySeverity_Major   \n224640                              0.0                    0.0  \\\n224689                              0.0                    0.0   \n224591                              0.0                    0.0   \n224590                              0.0                    0.0   \n224589                              0.0                    0.0   \n\n        penaltySeverity_Match  penaltySeverity_Minor   \n224640                    0.0                    0.0  \\\n224689                    0.0                    0.0   \n224591                    0.0                    0.0   \n224590                    0.0                    0.0   \n224589                    0.0                    0.0   \n\n        penaltySeverity_Misconduct  penaltySeverity_Penalty Shot  home_1   \n224640                         0.0                           0.0     0.0  \\\n224689                         0.0                           0.0     0.0   \n224591                         0.0                           0.0     0.0   \n224590                         0.0                           0.0     0.0   \n224589                         0.0                           0.0     0.0   \n\n        home_2  home_3  home_4  home_5  home_6  home_7  home_8  home_9   \n224640     0.0     0.0     0.0     0.0     0.0     1.0     0.0     0.0  \\\n224689     0.0     0.0     0.0     0.0     0.0     1.0     0.0     0.0   \n224591     0.0     0.0     0.0     0.0     0.0     1.0     0.0     0.0   \n224590     0.0     0.0     0.0     0.0     0.0     1.0     0.0     0.0   \n224589     0.0     0.0     0.0     0.0     0.0     1.0     0.0     0.0   \n\n        home_10  home_12  home_13  home_14  home_15  home_16  home_17   \n224640      0.0      0.0      0.0      0.0      0.0      0.0      0.0  \\\n224689      0.0      0.0      0.0      0.0      0.0      0.0      0.0   \n224591      0.0      0.0      0.0      0.0      0.0      0.0      0.0   \n224590      0.0      0.0      0.0      0.0      0.0      0.0      0.0   \n224589      0.0      0.0      0.0      0.0      0.0      0.0      0.0   \n\n        home_18  home_19  home_20  home_21  home_22  home_23  home_24   \n224640      0.0      0.0      0.0      0.0      0.0      0.0      0.0  \\\n224689      0.0      0.0      0.0      0.0      0.0      0.0      0.0   \n224591      0.0      0.0      0.0      0.0      0.0      0.0      0.0   \n224590      0.0      0.0      0.0      0.0      0.0      0.0      0.0   \n224589      0.0      0.0      0.0      0.0      0.0      0.0      0.0   \n\n        home_25  home_26  home_28  home_29  home_30  home_52  home_53   \n224640      0.0      0.0      0.0      0.0      0.0      0.0      0.0  \\\n224689      0.0      0.0      0.0      0.0      0.0      0.0      0.0   \n224591      0.0      0.0      0.0      0.0      0.0      0.0      0.0   \n224590      0.0      0.0      0.0      0.0      0.0      0.0      0.0   \n224589      0.0      0.0      0.0      0.0      0.0      0.0      0.0   \n\n        home_54  home_55  home_7461  away_1  away_2  away_3  away_4  away_5   \n224640      0.0      0.0        0.0     0.0     0.0     0.0     0.0     0.0  \\\n224689      0.0      0.0        0.0     0.0     0.0     0.0     0.0     0.0   \n224591      0.0      0.0        0.0     0.0     0.0     0.0     0.0     0.0   \n224590      0.0      0.0        0.0     0.0     0.0     0.0     0.0     0.0   \n224589      0.0      0.0        0.0     0.0     0.0     0.0     0.0     0.0   \n\n        away_6  away_7  away_8  away_9  away_10  away_12  away_13  away_14   \n224640     0.0     0.0     0.0     0.0      0.0      0.0      0.0      0.0  \\\n224689     0.0     0.0     0.0     0.0      0.0      0.0      0.0      0.0   \n224591     0.0     0.0     0.0     0.0      0.0      0.0      0.0      0.0   \n224590     0.0     0.0     0.0     0.0      0.0      0.0      0.0      0.0   \n224589     0.0     0.0     0.0     0.0      0.0      0.0      0.0      0.0   \n\n        away_15  away_16  away_17  away_18  away_19  away_20  away_21   \n224640      1.0      0.0      0.0      0.0      0.0      0.0      0.0  \\\n224689      1.0      0.0      0.0      0.0      0.0      0.0      0.0   \n224591      1.0      0.0      0.0      0.0      0.0      0.0      0.0   \n224590      1.0      0.0      0.0      0.0      0.0      0.0      0.0   \n224589      1.0      0.0      0.0      0.0      0.0      0.0      0.0   \n\n        away_22  away_23  away_24  away_25  away_26  away_28  away_29   \n224640      0.0      0.0      0.0      0.0      0.0      0.0      0.0  \\\n224689      0.0      0.0      0.0      0.0      0.0      0.0      0.0   \n224591      0.0      0.0      0.0      0.0      0.0      0.0      0.0   \n224590      0.0      0.0      0.0      0.0      0.0      0.0      0.0   \n224589      0.0      0.0      0.0      0.0      0.0      0.0      0.0   \n\n        away_30  away_52  away_53  away_54  away_55  away_7460  game_type_P   \n224640      0.0      0.0      0.0      0.0      0.0        0.0          0.0  \\\n224689      0.0      0.0      0.0      0.0      0.0        0.0          0.0   \n224591      0.0      0.0      0.0      0.0      0.0        0.0          0.0   \n224590      0.0      0.0      0.0      0.0      0.0        0.0          0.0   \n224589      0.0      0.0      0.0      0.0      0.0        0.0          0.0   \n\n        game_type_R  game_type_WA  \n224640          1.0           0.0  \n224689          1.0           0.0  \n224591          1.0           0.0  \n224590          1.0           0.0  \n224589          1.0           0.0  ",
      "text/html": "<div>\n<style scoped>\n    .dataframe tbody tr th:only-of-type {\n        vertical-align: middle;\n    }\n\n    .dataframe tbody tr th {\n        vertical-align: top;\n    }\n\n    .dataframe thead th {\n        text-align: right;\n    }\n</style>\n<table border=\"1\" class=\"dataframe\">\n  <thead>\n    <tr style=\"text-align: right;\">\n      <th></th>\n      <th>Home_Win_Bool</th>\n      <th>season</th>\n      <th>penaltyMinutes</th>\n      <th>eventIdx</th>\n      <th>period</th>\n      <th>x</th>\n      <th>y</th>\n      <th>goals_away</th>\n      <th>goals_home</th>\n      <th>time_left_in_period</th>\n      <th>epoch_time</th>\n      <th>Home_Shots</th>\n      <th>Away_Shots</th>\n      <th>Home_Faceoffs</th>\n      <th>Away_Faceoffs</th>\n      <th>Home_blocked_shots</th>\n      <th>Away_blocked_shots</th>\n      <th>Home_hits</th>\n      <th>Away_hits</th>\n      <th>Home_takeaway</th>\n      <th>Away_takeaway</th>\n      <th>Home_giveaway</th>\n      <th>Away_giveaway</th>\n      <th>Home_penalty_minutes</th>\n      <th>Away_penalty_minutes</th>\n      <th>penaltySeverity_0</th>\n      <th>penaltySeverity_Bench Minor</th>\n      <th>penaltySeverity_Game Misconduct</th>\n      <th>penaltySeverity_Major</th>\n      <th>penaltySeverity_Match</th>\n      <th>penaltySeverity_Minor</th>\n      <th>penaltySeverity_Misconduct</th>\n      <th>penaltySeverity_Penalty Shot</th>\n      <th>home_1</th>\n      <th>home_2</th>\n      <th>home_3</th>\n      <th>home_4</th>\n      <th>home_5</th>\n      <th>home_6</th>\n      <th>home_7</th>\n      <th>home_8</th>\n      <th>home_9</th>\n      <th>home_10</th>\n      <th>home_12</th>\n      <th>home_13</th>\n      <th>home_14</th>\n      <th>home_15</th>\n      <th>home_16</th>\n      <th>home_17</th>\n      <th>home_18</th>\n      <th>home_19</th>\n      <th>home_20</th>\n      <th>home_21</th>\n      <th>home_22</th>\n      <th>home_23</th>\n      <th>home_24</th>\n      <th>home_25</th>\n      <th>home_26</th>\n      <th>home_28</th>\n      <th>home_29</th>\n      <th>home_30</th>\n      <th>home_52</th>\n      <th>home_53</th>\n      <th>home_54</th>\n      <th>home_55</th>\n      <th>home_7461</th>\n      <th>away_1</th>\n      <th>away_2</th>\n      <th>away_3</th>\n      <th>away_4</th>\n      <th>away_5</th>\n      <th>away_6</th>\n      <th>away_7</th>\n      <th>away_8</th>\n      <th>away_9</th>\n      <th>away_10</th>\n      <th>away_12</th>\n      <th>away_13</th>\n      <th>away_14</th>\n      <th>away_15</th>\n      <th>away_16</th>\n      <th>away_17</th>\n      <th>away_18</th>\n      <th>away_19</th>\n      <th>away_20</th>\n      <th>away_21</th>\n      <th>away_22</th>\n      <th>away_23</th>\n      <th>away_24</th>\n      <th>away_25</th>\n      <th>away_26</th>\n      <th>away_28</th>\n      <th>away_29</th>\n      <th>away_30</th>\n      <th>away_52</th>\n      <th>away_53</th>\n      <th>away_54</th>\n      <th>away_55</th>\n      <th>away_7460</th>\n      <th>game_type_P</th>\n      <th>game_type_R</th>\n      <th>game_type_WA</th>\n    </tr>\n  </thead>\n  <tbody>\n    <tr>\n      <th>224640</th>\n      <td>1</td>\n      <td>20172018</td>\n      <td>0.0</td>\n      <td>239.0</td>\n      <td>3.0</td>\n      <td>97.0</td>\n      <td>-38.0</td>\n      <td>1.0</td>\n      <td>2.0</td>\n      <td>577</td>\n      <td>1510107365</td>\n      <td>37</td>\n      <td>23</td>\n      <td>24</td>\n      <td>25</td>\n      <td>7</td>\n      <td>8</td>\n      <td>15</td>\n      <td>18</td>\n      <td>4</td>\n      <td>5</td>\n      <td>7</td>\n      <td>7</td>\n      <td>7</td>\n      <td>13</td>\n      <td>1.0</td>\n      <td>0.0</td>\n      <td>0.0</td>\n      <td>0.0</td>\n      <td>0.0</td>\n      <td>0.0</td>\n      <td>0.0</td>\n      <td>0.0</td>\n      <td>0.0</td>\n      <td>0.0</td>\n      <td>0.0</td>\n      <td>0.0</td>\n      <td>0.0</td>\n      <td>0.0</td>\n      <td>1.0</td>\n      <td>0.0</td>\n      <td>0.0</td>\n      <td>0.0</td>\n      <td>0.0</td>\n      <td>0.0</td>\n      <td>0.0</td>\n      <td>0.0</td>\n      <td>0.0</td>\n      <td>0.0</td>\n      <td>0.0</td>\n      <td>0.0</td>\n      <td>0.0</td>\n      <td>0.0</td>\n      <td>0.0</td>\n      <td>0.0</td>\n      <td>0.0</td>\n      <td>0.0</td>\n      <td>0.0</td>\n      <td>0.0</td>\n      <td>0.0</td>\n      <td>0.0</td>\n      <td>0.0</td>\n      <td>0.0</td>\n      <td>0.0</td>\n      <td>0.0</td>\n      <td>0.0</td>\n      <td>0.0</td>\n      <td>0.0</td>\n      <td>0.0</td>\n      <td>0.0</td>\n      <td>0.0</td>\n      <td>0.0</td>\n      <td>0.0</td>\n      <td>0.0</td>\n      <td>0.0</td>\n      <td>0.0</td>\n      <td>0.0</td>\n      <td>0.0</td>\n      <td>0.0</td>\n      <td>1.0</td>\n      <td>0.0</td>\n      <td>0.0</td>\n      <td>0.0</td>\n      <td>0.0</td>\n      <td>0.0</td>\n      <td>0.0</td>\n      <td>0.0</td>\n      <td>0.0</td>\n      <td>0.0</td>\n      <td>0.0</td>\n      <td>0.0</td>\n      <td>0.0</td>\n      <td>0.0</td>\n      <td>0.0</td>\n      <td>0.0</td>\n      <td>0.0</td>\n      <td>0.0</td>\n      <td>0.0</td>\n      <td>0.0</td>\n      <td>0.0</td>\n      <td>1.0</td>\n      <td>0.0</td>\n    </tr>\n    <tr>\n      <th>224689</th>\n      <td>1</td>\n      <td>20172018</td>\n      <td>0.0</td>\n      <td>288.0</td>\n      <td>3.0</td>\n      <td>0.0</td>\n      <td>0.0</td>\n      <td>1.0</td>\n      <td>3.0</td>\n      <td>0</td>\n      <td>1510108522</td>\n      <td>39</td>\n      <td>30</td>\n      <td>31</td>\n      <td>29</td>\n      <td>12</td>\n      <td>8</td>\n      <td>19</td>\n      <td>22</td>\n      <td>6</td>\n      <td>5</td>\n      <td>7</td>\n      <td>7</td>\n      <td>7</td>\n      <td>13</td>\n      <td>1.0</td>\n      <td>0.0</td>\n      <td>0.0</td>\n      <td>0.0</td>\n      <td>0.0</td>\n      <td>0.0</td>\n      <td>0.0</td>\n      <td>0.0</td>\n      <td>0.0</td>\n      <td>0.0</td>\n      <td>0.0</td>\n      <td>0.0</td>\n      <td>0.0</td>\n      <td>0.0</td>\n      <td>1.0</td>\n      <td>0.0</td>\n      <td>0.0</td>\n      <td>0.0</td>\n      <td>0.0</td>\n      <td>0.0</td>\n      <td>0.0</td>\n      <td>0.0</td>\n      <td>0.0</td>\n      <td>0.0</td>\n      <td>0.0</td>\n      <td>0.0</td>\n      <td>0.0</td>\n      <td>0.0</td>\n      <td>0.0</td>\n      <td>0.0</td>\n      <td>0.0</td>\n      <td>0.0</td>\n      <td>0.0</td>\n      <td>0.0</td>\n      <td>0.0</td>\n      <td>0.0</td>\n      <td>0.0</td>\n      <td>0.0</td>\n      <td>0.0</td>\n      <td>0.0</td>\n      <td>0.0</td>\n      <td>0.0</td>\n      <td>0.0</td>\n      <td>0.0</td>\n      <td>0.0</td>\n      <td>0.0</td>\n      <td>0.0</td>\n      <td>0.0</td>\n      <td>0.0</td>\n      <td>0.0</td>\n      <td>0.0</td>\n      <td>0.0</td>\n      <td>0.0</td>\n      <td>0.0</td>\n      <td>1.0</td>\n      <td>0.0</td>\n      <td>0.0</td>\n      <td>0.0</td>\n      <td>0.0</td>\n      <td>0.0</td>\n      <td>0.0</td>\n      <td>0.0</td>\n      <td>0.0</td>\n      <td>0.0</td>\n      <td>0.0</td>\n      <td>0.0</td>\n      <td>0.0</td>\n      <td>0.0</td>\n      <td>0.0</td>\n      <td>0.0</td>\n      <td>0.0</td>\n      <td>0.0</td>\n      <td>0.0</td>\n      <td>0.0</td>\n      <td>0.0</td>\n      <td>1.0</td>\n      <td>0.0</td>\n    </tr>\n    <tr>\n      <th>224591</th>\n      <td>1</td>\n      <td>20172018</td>\n      <td>0.0</td>\n      <td>190.0</td>\n      <td>2.0</td>\n      <td>0.0</td>\n      <td>0.0</td>\n      <td>1.0</td>\n      <td>1.0</td>\n      <td>27</td>\n      <td>1510105148</td>\n      <td>29</td>\n      <td>17</td>\n      <td>19</td>\n      <td>18</td>\n      <td>7</td>\n      <td>6</td>\n      <td>14</td>\n      <td>14</td>\n      <td>3</td>\n      <td>4</td>\n      <td>7</td>\n      <td>7</td>\n      <td>7</td>\n      <td>9</td>\n      <td>1.0</td>\n      <td>0.0</td>\n      <td>0.0</td>\n      <td>0.0</td>\n      <td>0.0</td>\n      <td>0.0</td>\n      <td>0.0</td>\n      <td>0.0</td>\n      <td>0.0</td>\n      <td>0.0</td>\n      <td>0.0</td>\n      <td>0.0</td>\n      <td>0.0</td>\n      <td>0.0</td>\n      <td>1.0</td>\n      <td>0.0</td>\n      <td>0.0</td>\n      <td>0.0</td>\n      <td>0.0</td>\n      <td>0.0</td>\n      <td>0.0</td>\n      <td>0.0</td>\n      <td>0.0</td>\n      <td>0.0</td>\n      <td>0.0</td>\n      <td>0.0</td>\n      <td>0.0</td>\n      <td>0.0</td>\n      <td>0.0</td>\n      <td>0.0</td>\n      <td>0.0</td>\n      <td>0.0</td>\n      <td>0.0</td>\n      <td>0.0</td>\n      <td>0.0</td>\n      <td>0.0</td>\n      <td>0.0</td>\n      <td>0.0</td>\n      <td>0.0</td>\n      <td>0.0</td>\n      <td>0.0</td>\n      <td>0.0</td>\n      <td>0.0</td>\n      <td>0.0</td>\n      <td>0.0</td>\n      <td>0.0</td>\n      <td>0.0</td>\n      <td>0.0</td>\n      <td>0.0</td>\n      <td>0.0</td>\n      <td>0.0</td>\n      <td>0.0</td>\n      <td>0.0</td>\n      <td>0.0</td>\n      <td>1.0</td>\n      <td>0.0</td>\n      <td>0.0</td>\n      <td>0.0</td>\n      <td>0.0</td>\n      <td>0.0</td>\n      <td>0.0</td>\n      <td>0.0</td>\n      <td>0.0</td>\n      <td>0.0</td>\n      <td>0.0</td>\n      <td>0.0</td>\n      <td>0.0</td>\n      <td>0.0</td>\n      <td>0.0</td>\n      <td>0.0</td>\n      <td>0.0</td>\n      <td>0.0</td>\n      <td>0.0</td>\n      <td>0.0</td>\n      <td>0.0</td>\n      <td>1.0</td>\n      <td>0.0</td>\n    </tr>\n    <tr>\n      <th>224590</th>\n      <td>1</td>\n      <td>20172018</td>\n      <td>0.0</td>\n      <td>189.0</td>\n      <td>2.0</td>\n      <td>43.0</td>\n      <td>-35.0</td>\n      <td>1.0</td>\n      <td>1.0</td>\n      <td>29</td>\n      <td>1510105146</td>\n      <td>29</td>\n      <td>17</td>\n      <td>19</td>\n      <td>18</td>\n      <td>7</td>\n      <td>6</td>\n      <td>14</td>\n      <td>14</td>\n      <td>3</td>\n      <td>4</td>\n      <td>7</td>\n      <td>7</td>\n      <td>7</td>\n      <td>9</td>\n      <td>1.0</td>\n      <td>0.0</td>\n      <td>0.0</td>\n      <td>0.0</td>\n      <td>0.0</td>\n      <td>0.0</td>\n      <td>0.0</td>\n      <td>0.0</td>\n      <td>0.0</td>\n      <td>0.0</td>\n      <td>0.0</td>\n      <td>0.0</td>\n      <td>0.0</td>\n      <td>0.0</td>\n      <td>1.0</td>\n      <td>0.0</td>\n      <td>0.0</td>\n      <td>0.0</td>\n      <td>0.0</td>\n      <td>0.0</td>\n      <td>0.0</td>\n      <td>0.0</td>\n      <td>0.0</td>\n      <td>0.0</td>\n      <td>0.0</td>\n      <td>0.0</td>\n      <td>0.0</td>\n      <td>0.0</td>\n      <td>0.0</td>\n      <td>0.0</td>\n      <td>0.0</td>\n      <td>0.0</td>\n      <td>0.0</td>\n      <td>0.0</td>\n      <td>0.0</td>\n      <td>0.0</td>\n      <td>0.0</td>\n      <td>0.0</td>\n      <td>0.0</td>\n      <td>0.0</td>\n      <td>0.0</td>\n      <td>0.0</td>\n      <td>0.0</td>\n      <td>0.0</td>\n      <td>0.0</td>\n      <td>0.0</td>\n      <td>0.0</td>\n      <td>0.0</td>\n      <td>0.0</td>\n      <td>0.0</td>\n      <td>0.0</td>\n      <td>0.0</td>\n      <td>0.0</td>\n      <td>0.0</td>\n      <td>1.0</td>\n      <td>0.0</td>\n      <td>0.0</td>\n      <td>0.0</td>\n      <td>0.0</td>\n      <td>0.0</td>\n      <td>0.0</td>\n      <td>0.0</td>\n      <td>0.0</td>\n      <td>0.0</td>\n      <td>0.0</td>\n      <td>0.0</td>\n      <td>0.0</td>\n      <td>0.0</td>\n      <td>0.0</td>\n      <td>0.0</td>\n      <td>0.0</td>\n      <td>0.0</td>\n      <td>0.0</td>\n      <td>0.0</td>\n      <td>0.0</td>\n      <td>1.0</td>\n      <td>0.0</td>\n    </tr>\n    <tr>\n      <th>224589</th>\n      <td>1</td>\n      <td>20172018</td>\n      <td>0.0</td>\n      <td>188.0</td>\n      <td>2.0</td>\n      <td>69.0</td>\n      <td>-22.0</td>\n      <td>1.0</td>\n      <td>1.0</td>\n      <td>35</td>\n      <td>1510105124</td>\n      <td>29</td>\n      <td>16</td>\n      <td>19</td>\n      <td>18</td>\n      <td>7</td>\n      <td>6</td>\n      <td>14</td>\n      <td>14</td>\n      <td>3</td>\n      <td>4</td>\n      <td>7</td>\n      <td>7</td>\n      <td>7</td>\n      <td>9</td>\n      <td>1.0</td>\n      <td>0.0</td>\n      <td>0.0</td>\n      <td>0.0</td>\n      <td>0.0</td>\n      <td>0.0</td>\n      <td>0.0</td>\n      <td>0.0</td>\n      <td>0.0</td>\n      <td>0.0</td>\n      <td>0.0</td>\n      <td>0.0</td>\n      <td>0.0</td>\n      <td>0.0</td>\n      <td>1.0</td>\n      <td>0.0</td>\n      <td>0.0</td>\n      <td>0.0</td>\n      <td>0.0</td>\n      <td>0.0</td>\n      <td>0.0</td>\n      <td>0.0</td>\n      <td>0.0</td>\n      <td>0.0</td>\n      <td>0.0</td>\n      <td>0.0</td>\n      <td>0.0</td>\n      <td>0.0</td>\n      <td>0.0</td>\n      <td>0.0</td>\n      <td>0.0</td>\n      <td>0.0</td>\n      <td>0.0</td>\n      <td>0.0</td>\n      <td>0.0</td>\n      <td>0.0</td>\n      <td>0.0</td>\n      <td>0.0</td>\n      <td>0.0</td>\n      <td>0.0</td>\n      <td>0.0</td>\n      <td>0.0</td>\n      <td>0.0</td>\n      <td>0.0</td>\n      <td>0.0</td>\n      <td>0.0</td>\n      <td>0.0</td>\n      <td>0.0</td>\n      <td>0.0</td>\n      <td>0.0</td>\n      <td>0.0</td>\n      <td>0.0</td>\n      <td>0.0</td>\n      <td>0.0</td>\n      <td>1.0</td>\n      <td>0.0</td>\n      <td>0.0</td>\n      <td>0.0</td>\n      <td>0.0</td>\n      <td>0.0</td>\n      <td>0.0</td>\n      <td>0.0</td>\n      <td>0.0</td>\n      <td>0.0</td>\n      <td>0.0</td>\n      <td>0.0</td>\n      <td>0.0</td>\n      <td>0.0</td>\n      <td>0.0</td>\n      <td>0.0</td>\n      <td>0.0</td>\n      <td>0.0</td>\n      <td>0.0</td>\n      <td>0.0</td>\n      <td>0.0</td>\n      <td>1.0</td>\n      <td>0.0</td>\n    </tr>\n  </tbody>\n</table>\n</div>"
     },
     "execution_count": 55,
     "metadata": {},
     "output_type": "execute_result"
    }
   ],
   "source": [
    "d_model_encoded.head()"
   ]
  },
  {
   "cell_type": "code",
   "execution_count": 56,
   "metadata": {},
   "outputs": [
    {
     "data": {
      "text/plain": "         Home_Win_Bool    season  penaltyMinutes  eventIdx  period     x   \n1044731              0  20222023             0.0     279.0     3.0  92.0  \\\n1044732              0  20222023             0.0     280.0     3.0  63.0   \n1044733              0  20222023             0.0     281.0     3.0  58.0   \n1044723              0  20222023             0.0     271.0     3.0  74.0   \n2386586              0  20222023             0.0       0.0     1.0   0.0   \n\n            y  goals_away  goals_home  time_left_in_period  epoch_time   \n1044731  29.0         4.0         3.0                  601  1683086418  \\\n1044732  25.0         4.0         3.0                  601  1683086418   \n1044733  41.0         4.0         3.0                  585  1683086434   \n1044723   0.0         4.0         2.0                  702  1683086113   \n2386586   0.0         0.0         0.0                 1200  1683161246   \n\n         Home_Shots  Away_Shots  Home_Faceoffs  Away_Faceoffs   \n1044731          33          41             25             22  \\\n1044732          33          41             25             22   \n1044733          33          41             25             22   \n1044723          32          38             25             21   \n2386586           0           0              0              0   \n\n         Home_blocked_shots  Away_blocked_shots  Home_hits  Away_hits   \n1044731                  16                  11         12         32  \\\n1044732                  17                  11         12         32   \n1044733                  17                  11         12         32   \n1044723                  15                  11         12         32   \n2386586                   0                   0          0          0   \n\n         Home_takeaway  Away_takeaway  Home_giveaway  Away_giveaway   \n1044731              3             10             12              6  \\\n1044732              3             10             12              6   \n1044733              3             10             13              6   \n1044723              3             10             11              6   \n2386586              0              0              0              0   \n\n         Home_penalty_minutes  Away_penalty_minutes  penaltySeverity_0   \n1044731                     6                     4                1.0  \\\n1044732                     6                     4                1.0   \n1044733                     6                     4                1.0   \n1044723                     6                     4                1.0   \n2386586                     0                     0                1.0   \n\n         penaltySeverity_Bench Minor  penaltySeverity_Game Misconduct   \n1044731                          0.0                              0.0  \\\n1044732                          0.0                              0.0   \n1044733                          0.0                              0.0   \n1044723                          0.0                              0.0   \n2386586                          0.0                              0.0   \n\n         penaltySeverity_Major  penaltySeverity_Match  penaltySeverity_Minor   \n1044731                    0.0                    0.0                    0.0  \\\n1044732                    0.0                    0.0                    0.0   \n1044733                    0.0                    0.0                    0.0   \n1044723                    0.0                    0.0                    0.0   \n2386586                    0.0                    0.0                    0.0   \n\n         penaltySeverity_Misconduct  penaltySeverity_Penalty Shot  home_1   \n1044731                         0.0                           0.0     0.0  \\\n1044732                         0.0                           0.0     0.0   \n1044733                         0.0                           0.0     0.0   \n1044723                         0.0                           0.0     0.0   \n2386586                         0.0                           0.0     0.0   \n\n         home_2  home_3  home_4  home_5  home_6  home_7  home_8  home_9   \n1044731     0.0     0.0     0.0     0.0     0.0     0.0     0.0     0.0  \\\n1044732     0.0     0.0     0.0     0.0     0.0     0.0     0.0     0.0   \n1044733     0.0     0.0     0.0     0.0     0.0     0.0     0.0     0.0   \n1044723     0.0     0.0     0.0     0.0     0.0     0.0     0.0     0.0   \n2386586     0.0     0.0     0.0     0.0     0.0     0.0     0.0     0.0   \n\n         home_10  home_12  home_13  home_14  home_15  home_16  home_17   \n1044731      0.0      0.0      0.0      0.0      0.0      0.0      0.0  \\\n1044732      0.0      0.0      0.0      0.0      0.0      0.0      0.0   \n1044733      0.0      0.0      0.0      0.0      0.0      0.0      0.0   \n1044723      0.0      0.0      0.0      0.0      0.0      0.0      0.0   \n2386586      0.0      0.0      0.0      0.0      0.0      0.0      0.0   \n\n         home_18  home_19  home_20  home_21  home_22  home_23  home_24   \n1044731      0.0      0.0      0.0      0.0      0.0      0.0      0.0  \\\n1044732      0.0      0.0      0.0      0.0      0.0      0.0      0.0   \n1044733      0.0      0.0      0.0      0.0      0.0      0.0      0.0   \n1044723      0.0      0.0      0.0      0.0      0.0      0.0      0.0   \n2386586      0.0      0.0      0.0      0.0      0.0      0.0      0.0   \n\n         home_25  home_26  home_28  home_29  home_30  home_52  home_53   \n1044731      1.0      0.0      0.0      0.0      0.0      0.0      0.0  \\\n1044732      1.0      0.0      0.0      0.0      0.0      0.0      0.0   \n1044733      1.0      0.0      0.0      0.0      0.0      0.0      0.0   \n1044723      1.0      0.0      0.0      0.0      0.0      0.0      0.0   \n2386586      0.0      0.0      0.0      0.0      0.0      0.0      0.0   \n\n         home_54  home_55  home_7461  away_1  away_2  away_3  away_4  away_5   \n1044731      0.0      0.0        0.0     0.0     0.0     0.0     0.0     0.0  \\\n1044732      0.0      0.0        0.0     0.0     0.0     0.0     0.0     0.0   \n1044733      0.0      0.0        0.0     0.0     0.0     0.0     0.0     0.0   \n1044723      0.0      0.0        0.0     0.0     0.0     0.0     0.0     0.0   \n2386586      1.0      0.0        0.0     0.0     0.0     0.0     0.0     0.0   \n\n         away_6  away_7  away_8  away_9  away_10  away_12  away_13  away_14   \n1044731     0.0     0.0     0.0     0.0      0.0      0.0      0.0      0.0  \\\n1044732     0.0     0.0     0.0     0.0      0.0      0.0      0.0      0.0   \n1044733     0.0     0.0     0.0     0.0      0.0      0.0      0.0      0.0   \n1044723     0.0     0.0     0.0     0.0      0.0      0.0      0.0      0.0   \n2386586     0.0     0.0     0.0     0.0      0.0      0.0      0.0      0.0   \n\n         away_15  away_16  away_17  away_18  away_19  away_20  away_21   \n1044731      0.0      0.0      0.0      0.0      0.0      0.0      0.0  \\\n1044732      0.0      0.0      0.0      0.0      0.0      0.0      0.0   \n1044733      0.0      0.0      0.0      0.0      0.0      0.0      0.0   \n1044723      0.0      0.0      0.0      0.0      0.0      0.0      0.0   \n2386586      0.0      0.0      0.0      0.0      0.0      0.0      0.0   \n\n         away_22  away_23  away_24  away_25  away_26  away_28  away_29   \n1044731      0.0      0.0      0.0      0.0      0.0      0.0      0.0  \\\n1044732      0.0      0.0      0.0      0.0      0.0      0.0      0.0   \n1044733      0.0      0.0      0.0      0.0      0.0      0.0      0.0   \n1044723      0.0      0.0      0.0      0.0      0.0      0.0      0.0   \n2386586      1.0      0.0      0.0      0.0      0.0      0.0      0.0   \n\n         away_30  away_52  away_53  away_54  away_55  away_7460  game_type_P   \n1044731      0.0      0.0      0.0      0.0      1.0        0.0          1.0  \\\n1044732      0.0      0.0      0.0      0.0      1.0        0.0          1.0   \n1044733      0.0      0.0      0.0      0.0      1.0        0.0          1.0   \n1044723      0.0      0.0      0.0      0.0      1.0        0.0          1.0   \n2386586      0.0      0.0      0.0      0.0      0.0        0.0          1.0   \n\n         game_type_R  game_type_WA  \n1044731          0.0           0.0  \n1044732          0.0           0.0  \n1044733          0.0           0.0  \n1044723          0.0           0.0  \n2386586          0.0           0.0  ",
      "text/html": "<div>\n<style scoped>\n    .dataframe tbody tr th:only-of-type {\n        vertical-align: middle;\n    }\n\n    .dataframe tbody tr th {\n        vertical-align: top;\n    }\n\n    .dataframe thead th {\n        text-align: right;\n    }\n</style>\n<table border=\"1\" class=\"dataframe\">\n  <thead>\n    <tr style=\"text-align: right;\">\n      <th></th>\n      <th>Home_Win_Bool</th>\n      <th>season</th>\n      <th>penaltyMinutes</th>\n      <th>eventIdx</th>\n      <th>period</th>\n      <th>x</th>\n      <th>y</th>\n      <th>goals_away</th>\n      <th>goals_home</th>\n      <th>time_left_in_period</th>\n      <th>epoch_time</th>\n      <th>Home_Shots</th>\n      <th>Away_Shots</th>\n      <th>Home_Faceoffs</th>\n      <th>Away_Faceoffs</th>\n      <th>Home_blocked_shots</th>\n      <th>Away_blocked_shots</th>\n      <th>Home_hits</th>\n      <th>Away_hits</th>\n      <th>Home_takeaway</th>\n      <th>Away_takeaway</th>\n      <th>Home_giveaway</th>\n      <th>Away_giveaway</th>\n      <th>Home_penalty_minutes</th>\n      <th>Away_penalty_minutes</th>\n      <th>penaltySeverity_0</th>\n      <th>penaltySeverity_Bench Minor</th>\n      <th>penaltySeverity_Game Misconduct</th>\n      <th>penaltySeverity_Major</th>\n      <th>penaltySeverity_Match</th>\n      <th>penaltySeverity_Minor</th>\n      <th>penaltySeverity_Misconduct</th>\n      <th>penaltySeverity_Penalty Shot</th>\n      <th>home_1</th>\n      <th>home_2</th>\n      <th>home_3</th>\n      <th>home_4</th>\n      <th>home_5</th>\n      <th>home_6</th>\n      <th>home_7</th>\n      <th>home_8</th>\n      <th>home_9</th>\n      <th>home_10</th>\n      <th>home_12</th>\n      <th>home_13</th>\n      <th>home_14</th>\n      <th>home_15</th>\n      <th>home_16</th>\n      <th>home_17</th>\n      <th>home_18</th>\n      <th>home_19</th>\n      <th>home_20</th>\n      <th>home_21</th>\n      <th>home_22</th>\n      <th>home_23</th>\n      <th>home_24</th>\n      <th>home_25</th>\n      <th>home_26</th>\n      <th>home_28</th>\n      <th>home_29</th>\n      <th>home_30</th>\n      <th>home_52</th>\n      <th>home_53</th>\n      <th>home_54</th>\n      <th>home_55</th>\n      <th>home_7461</th>\n      <th>away_1</th>\n      <th>away_2</th>\n      <th>away_3</th>\n      <th>away_4</th>\n      <th>away_5</th>\n      <th>away_6</th>\n      <th>away_7</th>\n      <th>away_8</th>\n      <th>away_9</th>\n      <th>away_10</th>\n      <th>away_12</th>\n      <th>away_13</th>\n      <th>away_14</th>\n      <th>away_15</th>\n      <th>away_16</th>\n      <th>away_17</th>\n      <th>away_18</th>\n      <th>away_19</th>\n      <th>away_20</th>\n      <th>away_21</th>\n      <th>away_22</th>\n      <th>away_23</th>\n      <th>away_24</th>\n      <th>away_25</th>\n      <th>away_26</th>\n      <th>away_28</th>\n      <th>away_29</th>\n      <th>away_30</th>\n      <th>away_52</th>\n      <th>away_53</th>\n      <th>away_54</th>\n      <th>away_55</th>\n      <th>away_7460</th>\n      <th>game_type_P</th>\n      <th>game_type_R</th>\n      <th>game_type_WA</th>\n    </tr>\n  </thead>\n  <tbody>\n    <tr>\n      <th>1044731</th>\n      <td>0</td>\n      <td>20222023</td>\n      <td>0.0</td>\n      <td>279.0</td>\n      <td>3.0</td>\n      <td>92.0</td>\n      <td>29.0</td>\n      <td>4.0</td>\n      <td>3.0</td>\n      <td>601</td>\n      <td>1683086418</td>\n      <td>33</td>\n      <td>41</td>\n      <td>25</td>\n      <td>22</td>\n      <td>16</td>\n      <td>11</td>\n      <td>12</td>\n      <td>32</td>\n      <td>3</td>\n      <td>10</td>\n      <td>12</td>\n      <td>6</td>\n      <td>6</td>\n      <td>4</td>\n      <td>1.0</td>\n      <td>0.0</td>\n      <td>0.0</td>\n      <td>0.0</td>\n      <td>0.0</td>\n      <td>0.0</td>\n      <td>0.0</td>\n      <td>0.0</td>\n      <td>0.0</td>\n      <td>0.0</td>\n      <td>0.0</td>\n      <td>0.0</td>\n      <td>0.0</td>\n      <td>0.0</td>\n      <td>0.0</td>\n      <td>0.0</td>\n      <td>0.0</td>\n      <td>0.0</td>\n      <td>0.0</td>\n      <td>0.0</td>\n      <td>0.0</td>\n      <td>0.0</td>\n      <td>0.0</td>\n      <td>0.0</td>\n      <td>0.0</td>\n      <td>0.0</td>\n      <td>0.0</td>\n      <td>0.0</td>\n      <td>0.0</td>\n      <td>0.0</td>\n      <td>0.0</td>\n      <td>1.0</td>\n      <td>0.0</td>\n      <td>0.0</td>\n      <td>0.0</td>\n      <td>0.0</td>\n      <td>0.0</td>\n      <td>0.0</td>\n      <td>0.0</td>\n      <td>0.0</td>\n      <td>0.0</td>\n      <td>0.0</td>\n      <td>0.0</td>\n      <td>0.0</td>\n      <td>0.0</td>\n      <td>0.0</td>\n      <td>0.0</td>\n      <td>0.0</td>\n      <td>0.0</td>\n      <td>0.0</td>\n      <td>0.0</td>\n      <td>0.0</td>\n      <td>0.0</td>\n      <td>0.0</td>\n      <td>0.0</td>\n      <td>0.0</td>\n      <td>0.0</td>\n      <td>0.0</td>\n      <td>0.0</td>\n      <td>0.0</td>\n      <td>0.0</td>\n      <td>0.0</td>\n      <td>0.0</td>\n      <td>0.0</td>\n      <td>0.0</td>\n      <td>0.0</td>\n      <td>0.0</td>\n      <td>0.0</td>\n      <td>0.0</td>\n      <td>0.0</td>\n      <td>0.0</td>\n      <td>0.0</td>\n      <td>1.0</td>\n      <td>0.0</td>\n      <td>1.0</td>\n      <td>0.0</td>\n      <td>0.0</td>\n    </tr>\n    <tr>\n      <th>1044732</th>\n      <td>0</td>\n      <td>20222023</td>\n      <td>0.0</td>\n      <td>280.0</td>\n      <td>3.0</td>\n      <td>63.0</td>\n      <td>25.0</td>\n      <td>4.0</td>\n      <td>3.0</td>\n      <td>601</td>\n      <td>1683086418</td>\n      <td>33</td>\n      <td>41</td>\n      <td>25</td>\n      <td>22</td>\n      <td>17</td>\n      <td>11</td>\n      <td>12</td>\n      <td>32</td>\n      <td>3</td>\n      <td>10</td>\n      <td>12</td>\n      <td>6</td>\n      <td>6</td>\n      <td>4</td>\n      <td>1.0</td>\n      <td>0.0</td>\n      <td>0.0</td>\n      <td>0.0</td>\n      <td>0.0</td>\n      <td>0.0</td>\n      <td>0.0</td>\n      <td>0.0</td>\n      <td>0.0</td>\n      <td>0.0</td>\n      <td>0.0</td>\n      <td>0.0</td>\n      <td>0.0</td>\n      <td>0.0</td>\n      <td>0.0</td>\n      <td>0.0</td>\n      <td>0.0</td>\n      <td>0.0</td>\n      <td>0.0</td>\n      <td>0.0</td>\n      <td>0.0</td>\n      <td>0.0</td>\n      <td>0.0</td>\n      <td>0.0</td>\n      <td>0.0</td>\n      <td>0.0</td>\n      <td>0.0</td>\n      <td>0.0</td>\n      <td>0.0</td>\n      <td>0.0</td>\n      <td>0.0</td>\n      <td>1.0</td>\n      <td>0.0</td>\n      <td>0.0</td>\n      <td>0.0</td>\n      <td>0.0</td>\n      <td>0.0</td>\n      <td>0.0</td>\n      <td>0.0</td>\n      <td>0.0</td>\n      <td>0.0</td>\n      <td>0.0</td>\n      <td>0.0</td>\n      <td>0.0</td>\n      <td>0.0</td>\n      <td>0.0</td>\n      <td>0.0</td>\n      <td>0.0</td>\n      <td>0.0</td>\n      <td>0.0</td>\n      <td>0.0</td>\n      <td>0.0</td>\n      <td>0.0</td>\n      <td>0.0</td>\n      <td>0.0</td>\n      <td>0.0</td>\n      <td>0.0</td>\n      <td>0.0</td>\n      <td>0.0</td>\n      <td>0.0</td>\n      <td>0.0</td>\n      <td>0.0</td>\n      <td>0.0</td>\n      <td>0.0</td>\n      <td>0.0</td>\n      <td>0.0</td>\n      <td>0.0</td>\n      <td>0.0</td>\n      <td>0.0</td>\n      <td>0.0</td>\n      <td>0.0</td>\n      <td>0.0</td>\n      <td>1.0</td>\n      <td>0.0</td>\n      <td>1.0</td>\n      <td>0.0</td>\n      <td>0.0</td>\n    </tr>\n    <tr>\n      <th>1044733</th>\n      <td>0</td>\n      <td>20222023</td>\n      <td>0.0</td>\n      <td>281.0</td>\n      <td>3.0</td>\n      <td>58.0</td>\n      <td>41.0</td>\n      <td>4.0</td>\n      <td>3.0</td>\n      <td>585</td>\n      <td>1683086434</td>\n      <td>33</td>\n      <td>41</td>\n      <td>25</td>\n      <td>22</td>\n      <td>17</td>\n      <td>11</td>\n      <td>12</td>\n      <td>32</td>\n      <td>3</td>\n      <td>10</td>\n      <td>13</td>\n      <td>6</td>\n      <td>6</td>\n      <td>4</td>\n      <td>1.0</td>\n      <td>0.0</td>\n      <td>0.0</td>\n      <td>0.0</td>\n      <td>0.0</td>\n      <td>0.0</td>\n      <td>0.0</td>\n      <td>0.0</td>\n      <td>0.0</td>\n      <td>0.0</td>\n      <td>0.0</td>\n      <td>0.0</td>\n      <td>0.0</td>\n      <td>0.0</td>\n      <td>0.0</td>\n      <td>0.0</td>\n      <td>0.0</td>\n      <td>0.0</td>\n      <td>0.0</td>\n      <td>0.0</td>\n      <td>0.0</td>\n      <td>0.0</td>\n      <td>0.0</td>\n      <td>0.0</td>\n      <td>0.0</td>\n      <td>0.0</td>\n      <td>0.0</td>\n      <td>0.0</td>\n      <td>0.0</td>\n      <td>0.0</td>\n      <td>0.0</td>\n      <td>1.0</td>\n      <td>0.0</td>\n      <td>0.0</td>\n      <td>0.0</td>\n      <td>0.0</td>\n      <td>0.0</td>\n      <td>0.0</td>\n      <td>0.0</td>\n      <td>0.0</td>\n      <td>0.0</td>\n      <td>0.0</td>\n      <td>0.0</td>\n      <td>0.0</td>\n      <td>0.0</td>\n      <td>0.0</td>\n      <td>0.0</td>\n      <td>0.0</td>\n      <td>0.0</td>\n      <td>0.0</td>\n      <td>0.0</td>\n      <td>0.0</td>\n      <td>0.0</td>\n      <td>0.0</td>\n      <td>0.0</td>\n      <td>0.0</td>\n      <td>0.0</td>\n      <td>0.0</td>\n      <td>0.0</td>\n      <td>0.0</td>\n      <td>0.0</td>\n      <td>0.0</td>\n      <td>0.0</td>\n      <td>0.0</td>\n      <td>0.0</td>\n      <td>0.0</td>\n      <td>0.0</td>\n      <td>0.0</td>\n      <td>0.0</td>\n      <td>0.0</td>\n      <td>0.0</td>\n      <td>0.0</td>\n      <td>1.0</td>\n      <td>0.0</td>\n      <td>1.0</td>\n      <td>0.0</td>\n      <td>0.0</td>\n    </tr>\n    <tr>\n      <th>1044723</th>\n      <td>0</td>\n      <td>20222023</td>\n      <td>0.0</td>\n      <td>271.0</td>\n      <td>3.0</td>\n      <td>74.0</td>\n      <td>0.0</td>\n      <td>4.0</td>\n      <td>2.0</td>\n      <td>702</td>\n      <td>1683086113</td>\n      <td>32</td>\n      <td>38</td>\n      <td>25</td>\n      <td>21</td>\n      <td>15</td>\n      <td>11</td>\n      <td>12</td>\n      <td>32</td>\n      <td>3</td>\n      <td>10</td>\n      <td>11</td>\n      <td>6</td>\n      <td>6</td>\n      <td>4</td>\n      <td>1.0</td>\n      <td>0.0</td>\n      <td>0.0</td>\n      <td>0.0</td>\n      <td>0.0</td>\n      <td>0.0</td>\n      <td>0.0</td>\n      <td>0.0</td>\n      <td>0.0</td>\n      <td>0.0</td>\n      <td>0.0</td>\n      <td>0.0</td>\n      <td>0.0</td>\n      <td>0.0</td>\n      <td>0.0</td>\n      <td>0.0</td>\n      <td>0.0</td>\n      <td>0.0</td>\n      <td>0.0</td>\n      <td>0.0</td>\n      <td>0.0</td>\n      <td>0.0</td>\n      <td>0.0</td>\n      <td>0.0</td>\n      <td>0.0</td>\n      <td>0.0</td>\n      <td>0.0</td>\n      <td>0.0</td>\n      <td>0.0</td>\n      <td>0.0</td>\n      <td>0.0</td>\n      <td>1.0</td>\n      <td>0.0</td>\n      <td>0.0</td>\n      <td>0.0</td>\n      <td>0.0</td>\n      <td>0.0</td>\n      <td>0.0</td>\n      <td>0.0</td>\n      <td>0.0</td>\n      <td>0.0</td>\n      <td>0.0</td>\n      <td>0.0</td>\n      <td>0.0</td>\n      <td>0.0</td>\n      <td>0.0</td>\n      <td>0.0</td>\n      <td>0.0</td>\n      <td>0.0</td>\n      <td>0.0</td>\n      <td>0.0</td>\n      <td>0.0</td>\n      <td>0.0</td>\n      <td>0.0</td>\n      <td>0.0</td>\n      <td>0.0</td>\n      <td>0.0</td>\n      <td>0.0</td>\n      <td>0.0</td>\n      <td>0.0</td>\n      <td>0.0</td>\n      <td>0.0</td>\n      <td>0.0</td>\n      <td>0.0</td>\n      <td>0.0</td>\n      <td>0.0</td>\n      <td>0.0</td>\n      <td>0.0</td>\n      <td>0.0</td>\n      <td>0.0</td>\n      <td>0.0</td>\n      <td>0.0</td>\n      <td>1.0</td>\n      <td>0.0</td>\n      <td>1.0</td>\n      <td>0.0</td>\n      <td>0.0</td>\n    </tr>\n    <tr>\n      <th>2386586</th>\n      <td>0</td>\n      <td>20222023</td>\n      <td>0.0</td>\n      <td>0.0</td>\n      <td>1.0</td>\n      <td>0.0</td>\n      <td>0.0</td>\n      <td>0.0</td>\n      <td>0.0</td>\n      <td>1200</td>\n      <td>1683161246</td>\n      <td>0</td>\n      <td>0</td>\n      <td>0</td>\n      <td>0</td>\n      <td>0</td>\n      <td>0</td>\n      <td>0</td>\n      <td>0</td>\n      <td>0</td>\n      <td>0</td>\n      <td>0</td>\n      <td>0</td>\n      <td>0</td>\n      <td>0</td>\n      <td>1.0</td>\n      <td>0.0</td>\n      <td>0.0</td>\n      <td>0.0</td>\n      <td>0.0</td>\n      <td>0.0</td>\n      <td>0.0</td>\n      <td>0.0</td>\n      <td>0.0</td>\n      <td>0.0</td>\n      <td>0.0</td>\n      <td>0.0</td>\n      <td>0.0</td>\n      <td>0.0</td>\n      <td>0.0</td>\n      <td>0.0</td>\n      <td>0.0</td>\n      <td>0.0</td>\n      <td>0.0</td>\n      <td>0.0</td>\n      <td>0.0</td>\n      <td>0.0</td>\n      <td>0.0</td>\n      <td>0.0</td>\n      <td>0.0</td>\n      <td>0.0</td>\n      <td>0.0</td>\n      <td>0.0</td>\n      <td>0.0</td>\n      <td>0.0</td>\n      <td>0.0</td>\n      <td>0.0</td>\n      <td>0.0</td>\n      <td>0.0</td>\n      <td>0.0</td>\n      <td>0.0</td>\n      <td>0.0</td>\n      <td>0.0</td>\n      <td>1.0</td>\n      <td>0.0</td>\n      <td>0.0</td>\n      <td>0.0</td>\n      <td>0.0</td>\n      <td>0.0</td>\n      <td>0.0</td>\n      <td>0.0</td>\n      <td>0.0</td>\n      <td>0.0</td>\n      <td>0.0</td>\n      <td>0.0</td>\n      <td>0.0</td>\n      <td>0.0</td>\n      <td>0.0</td>\n      <td>0.0</td>\n      <td>0.0</td>\n      <td>0.0</td>\n      <td>0.0</td>\n      <td>0.0</td>\n      <td>0.0</td>\n      <td>0.0</td>\n      <td>0.0</td>\n      <td>1.0</td>\n      <td>0.0</td>\n      <td>0.0</td>\n      <td>0.0</td>\n      <td>0.0</td>\n      <td>0.0</td>\n      <td>0.0</td>\n      <td>0.0</td>\n      <td>0.0</td>\n      <td>0.0</td>\n      <td>0.0</td>\n      <td>0.0</td>\n      <td>0.0</td>\n      <td>1.0</td>\n      <td>0.0</td>\n      <td>0.0</td>\n    </tr>\n  </tbody>\n</table>\n</div>"
     },
     "execution_count": 56,
     "metadata": {},
     "output_type": "execute_result"
    }
   ],
   "source": [
    "d_model_encoded.tail()"
   ]
  },
  {
   "cell_type": "code",
   "execution_count": 57,
   "metadata": {},
   "outputs": [
    {
     "name": "stdout",
     "output_type": "stream",
     "text": [
      "(2386587, 102)\n"
     ]
    }
   ],
   "source": [
    "print(d_model_encoded.shape)"
   ]
  },
  {
   "cell_type": "code",
   "execution_count": 58,
   "metadata": {},
   "outputs": [
    {
     "name": "stdout",
     "output_type": "stream",
     "text": [
      "Home_Win_Bool       int64\n",
      "season              int64\n",
      "penaltyMinutes    float64\n",
      "eventIdx          float64\n",
      "period            float64\n",
      "                   ...   \n",
      "away_55           float64\n",
      "away_7460         float64\n",
      "game_type_P       float64\n",
      "game_type_R       float64\n",
      "game_type_WA      float64\n",
      "Length: 102, dtype: object\n"
     ]
    }
   ],
   "source": [
    "print(d_model_encoded.dtypes)"
   ]
  },
  {
   "cell_type": "code",
   "execution_count": 59,
   "metadata": {},
   "outputs": [
    {
     "name": "stdout",
     "output_type": "stream",
     "text": [
      "       Home_Win_Bool        season  penaltyMinutes      eventIdx   \n",
      "count   2.386587e+06  2.386587e+06    2.386587e+06  2.386587e+06  \\\n",
      "mean    5.365101e-01  2.019753e+07    5.420628e-02  1.622692e+02   \n",
      "std     4.986653e-01  1.740819e+04    4.105527e-01  9.646647e+01   \n",
      "min     0.000000e+00  2.017202e+07    0.000000e+00  0.000000e+00   \n",
      "25%     0.000000e+00  2.018202e+07    0.000000e+00  8.000000e+01   \n",
      "50%     1.000000e+00  2.019202e+07    0.000000e+00  1.600000e+02   \n",
      "75%     1.000000e+00  2.021202e+07    0.000000e+00  2.410000e+02   \n",
      "max     1.000000e+00  2.022202e+07    1.000000e+01  7.830000e+02   \n",
      "\n",
      "             period             x             y    goals_away    goals_home   \n",
      "count  2.386587e+06  2.386587e+06  2.386587e+06  2.386587e+06  2.386587e+06  \\\n",
      "mean   2.019204e+00 -1.002532e-01 -4.257042e-02  1.332097e+00  1.453051e+00   \n",
      "std    8.612989e-01  5.802160e+01  2.051579e+01  1.377671e+00  1.476330e+00   \n",
      "min    1.000000e+00 -1.000000e+02 -4.200000e+01  0.000000e+00  0.000000e+00   \n",
      "25%    1.000000e+00 -5.900000e+01 -1.500000e+01  0.000000e+00  0.000000e+00   \n",
      "50%    2.000000e+00  0.000000e+00  0.000000e+00  1.000000e+00  1.000000e+00   \n",
      "75%    3.000000e+00  5.800000e+01  1.500000e+01  2.000000e+00  2.000000e+00   \n",
      "max    8.000000e+00  1.000000e+02  4.200000e+01  1.000000e+01  1.100000e+01   \n",
      "\n",
      "       time_left_in_period    epoch_time    Home_Shots    Away_Shots   \n",
      "count         2.386587e+06  2.386587e+06  2.386587e+06  2.386587e+06  \\\n",
      "mean          5.974107e+02  1.597835e+09  2.080521e+01  1.967963e+01   \n",
      "std           3.654938e+02  5.537025e+07  1.362317e+01  1.298545e+01   \n",
      "min           0.000000e+00  1.510096e+09  0.000000e+00  0.000000e+00   \n",
      "25%           2.780000e+02  1.547345e+09  9.000000e+00  9.000000e+00   \n",
      "50%           5.990000e+02  1.598502e+09  2.000000e+01  1.900000e+01   \n",
      "75%           9.150000e+02  1.646963e+09  3.100000e+01  2.900000e+01   \n",
      "max           1.200000e+03  1.683164e+09  1.230000e+02  1.080000e+02   \n",
      "\n",
      "       Home_Faceoffs  Away_Faceoffs  Home_blocked_shots  Away_blocked_shots   \n",
      "count   2.386587e+06   2.386587e+06        2.386587e+06        2.386587e+06  \\\n",
      "mean    1.494415e+01   1.427076e+01        7.009455e+00        7.364436e+00   \n",
      "std     9.564726e+00   9.124991e+00        5.245305e+00        5.420432e+00   \n",
      "min     0.000000e+00   0.000000e+00        0.000000e+00        0.000000e+00   \n",
      "25%     7.000000e+00   7.000000e+00        3.000000e+00        3.000000e+00   \n",
      "50%     1.400000e+01   1.400000e+01        6.000000e+00        7.000000e+00   \n",
      "75%     2.200000e+01   2.100000e+01        1.000000e+01        1.100000e+01   \n",
      "max     7.200000e+01   6.600000e+01        4.700000e+01        6.200000e+01   \n",
      "\n",
      "          Home_hits     Away_hits  Home_takeaway  Away_takeaway   \n",
      "count  2.386587e+06  2.386587e+06   2.386587e+06   2.386587e+06  \\\n",
      "mean   1.303097e+01  1.246727e+01   4.126934e+00   3.332335e+00   \n",
      "std    9.189214e+00  9.074462e+00   3.565020e+00   3.005816e+00   \n",
      "min    0.000000e+00  0.000000e+00   0.000000e+00   0.000000e+00   \n",
      "25%    6.000000e+00  5.000000e+00   1.000000e+00   1.000000e+00   \n",
      "50%    1.200000e+01  1.100000e+01   3.000000e+00   3.000000e+00   \n",
      "75%    1.900000e+01  1.800000e+01   6.000000e+00   5.000000e+00   \n",
      "max    8.000000e+01  8.000000e+01   3.100000e+01   2.900000e+01   \n",
      "\n",
      "       Home_giveaway  Away_giveaway  Home_penalty_minutes   \n",
      "count   2.386587e+06   2.386587e+06          2.386587e+06  \\\n",
      "mean    5.718536e+00   4.344763e+00          4.001242e+00   \n",
      "std     4.661483e+00   3.819569e+00          4.508395e+00   \n",
      "min     0.000000e+00   0.000000e+00          0.000000e+00   \n",
      "25%     2.000000e+00   1.000000e+00          0.000000e+00   \n",
      "50%     5.000000e+00   4.000000e+00          2.000000e+00   \n",
      "75%     8.000000e+00   6.000000e+00          6.000000e+00   \n",
      "max     7.500000e+01   4.500000e+01          8.500000e+01   \n",
      "\n",
      "       Away_penalty_minutes  penaltySeverity_0  penaltySeverity_Bench Minor   \n",
      "count          2.386587e+06       2.386587e+06                 2.386587e+06  \\\n",
      "mean           4.275660e+00       9.770899e-01                 6.867548e-04   \n",
      "std            4.690031e+00       1.496170e-01                 2.619701e-02   \n",
      "min            0.000000e+00       0.000000e+00                 0.000000e+00   \n",
      "25%            0.000000e+00       1.000000e+00                 0.000000e+00   \n",
      "50%            4.000000e+00       1.000000e+00                 0.000000e+00   \n",
      "75%            6.000000e+00       1.000000e+00                 0.000000e+00   \n",
      "max            8.800000e+01       1.000000e+00                 1.000000e+00   \n",
      "\n",
      "       penaltySeverity_Game Misconduct  penaltySeverity_Major   \n",
      "count                     2.386587e+06           2.386587e+06  \\\n",
      "mean                      9.260086e-05           1.358844e-03   \n",
      "std                       9.622490e-03           3.683746e-02   \n",
      "min                       0.000000e+00           0.000000e+00   \n",
      "25%                       0.000000e+00           0.000000e+00   \n",
      "50%                       0.000000e+00           0.000000e+00   \n",
      "75%                       0.000000e+00           0.000000e+00   \n",
      "max                       1.000000e+00           1.000000e+00   \n",
      "\n",
      "       penaltySeverity_Match  penaltySeverity_Minor   \n",
      "count           2.386587e+06           2.386587e+06  \\\n",
      "mean            2.011240e-05           2.023475e-02   \n",
      "std             4.484641e-03           1.408024e-01   \n",
      "min             0.000000e+00           0.000000e+00   \n",
      "25%             0.000000e+00           0.000000e+00   \n",
      "50%             0.000000e+00           0.000000e+00   \n",
      "75%             0.000000e+00           0.000000e+00   \n",
      "max             1.000000e+00           1.000000e+00   \n",
      "\n",
      "       penaltySeverity_Misconduct  penaltySeverity_Penalty Shot        home_1   \n",
      "count                2.386587e+06                  2.386587e+06  2.386587e+06  \\\n",
      "mean                 4.106282e-04                  1.064281e-04  2.916592e-02   \n",
      "std                  2.025981e-02                  1.031585e-02  1.682714e-01   \n",
      "min                  0.000000e+00                  0.000000e+00  0.000000e+00   \n",
      "25%                  0.000000e+00                  0.000000e+00  0.000000e+00   \n",
      "50%                  0.000000e+00                  0.000000e+00  0.000000e+00   \n",
      "75%                  0.000000e+00                  0.000000e+00  0.000000e+00   \n",
      "max                  1.000000e+00                  1.000000e+00  1.000000e+00   \n",
      "\n",
      "             home_2        home_3        home_4        home_5        home_6   \n",
      "count  2.386587e+06  2.386587e+06  2.386587e+06  2.386587e+06  2.386587e+06  \\\n",
      "mean   3.317960e-02  3.132674e-02  3.073217e-02  3.368702e-02  3.577871e-02   \n",
      "std    1.791054e-01  1.741993e-01  1.725912e-01  1.804223e-01  1.857380e-01   \n",
      "min    0.000000e+00  0.000000e+00  0.000000e+00  0.000000e+00  0.000000e+00   \n",
      "25%    0.000000e+00  0.000000e+00  0.000000e+00  0.000000e+00  0.000000e+00   \n",
      "50%    0.000000e+00  0.000000e+00  0.000000e+00  0.000000e+00  0.000000e+00   \n",
      "75%    0.000000e+00  0.000000e+00  0.000000e+00  0.000000e+00  0.000000e+00   \n",
      "max    1.000000e+00  1.000000e+00  1.000000e+00  1.000000e+00  1.000000e+00   \n",
      "\n",
      "             home_7        home_8        home_9       home_10       home_12   \n",
      "count  2.386587e+06  2.386587e+06  2.386587e+06  2.386587e+06  2.386587e+06  \\\n",
      "mean   2.673902e-02  3.378926e-02  3.052309e-02  3.384834e-02  3.557968e-02   \n",
      "std    1.613197e-01  1.806863e-01  1.720216e-01  1.808387e-01  1.852398e-01   \n",
      "min    0.000000e+00  0.000000e+00  0.000000e+00  0.000000e+00  0.000000e+00   \n",
      "25%    0.000000e+00  0.000000e+00  0.000000e+00  0.000000e+00  0.000000e+00   \n",
      "50%    0.000000e+00  0.000000e+00  0.000000e+00  0.000000e+00  0.000000e+00   \n",
      "75%    0.000000e+00  0.000000e+00  0.000000e+00  0.000000e+00  0.000000e+00   \n",
      "max    1.000000e+00  1.000000e+00  1.000000e+00  1.000000e+00  1.000000e+00   \n",
      "\n",
      "            home_13       home_14       home_15       home_16       home_17   \n",
      "count  2.386587e+06  2.386587e+06  2.386587e+06  2.386587e+06  2.386587e+06  \\\n",
      "mean   3.306144e-02  3.647887e-02  3.361579e-02  3.023774e-02  2.790680e-02   \n",
      "std    1.787971e-01  1.874785e-01  1.802381e-01  1.712409e-01  1.647059e-01   \n",
      "min    0.000000e+00  0.000000e+00  0.000000e+00  0.000000e+00  0.000000e+00   \n",
      "25%    0.000000e+00  0.000000e+00  0.000000e+00  0.000000e+00  0.000000e+00   \n",
      "50%    0.000000e+00  0.000000e+00  0.000000e+00  0.000000e+00  0.000000e+00   \n",
      "75%    0.000000e+00  0.000000e+00  0.000000e+00  0.000000e+00  0.000000e+00   \n",
      "max    1.000000e+00  1.000000e+00  1.000000e+00  1.000000e+00  1.000000e+00   \n",
      "\n",
      "            home_18       home_19       home_20       home_21       home_22   \n",
      "count  2.386587e+06  2.386587e+06  2.386587e+06  2.386587e+06  2.386587e+06  \\\n",
      "mean   3.201769e-02  3.136990e-02  3.136068e-02  3.401720e-02  3.333673e-02   \n",
      "std    1.760471e-01  1.743154e-01  1.742906e-01  1.812734e-01  1.795144e-01   \n",
      "min    0.000000e+00  0.000000e+00  0.000000e+00  0.000000e+00  0.000000e+00   \n",
      "25%    0.000000e+00  0.000000e+00  0.000000e+00  0.000000e+00  0.000000e+00   \n",
      "50%    0.000000e+00  0.000000e+00  0.000000e+00  0.000000e+00  0.000000e+00   \n",
      "75%    0.000000e+00  0.000000e+00  0.000000e+00  0.000000e+00  0.000000e+00   \n",
      "max    1.000000e+00  1.000000e+00  1.000000e+00  1.000000e+00  1.000000e+00   \n",
      "\n",
      "            home_23       home_24       home_25       home_26       home_28   \n",
      "count  2.386587e+06  2.386587e+06  2.386587e+06  2.386587e+06  2.386587e+06  \\\n",
      "mean   2.921494e-02  2.949819e-02  3.361369e-02  2.919357e-02  3.177760e-02   \n",
      "std    1.684086e-01  1.691983e-01  1.802327e-01  1.683488e-01  1.754075e-01   \n",
      "min    0.000000e+00  0.000000e+00  0.000000e+00  0.000000e+00  0.000000e+00   \n",
      "25%    0.000000e+00  0.000000e+00  0.000000e+00  0.000000e+00  0.000000e+00   \n",
      "50%    0.000000e+00  0.000000e+00  0.000000e+00  0.000000e+00  0.000000e+00   \n",
      "75%    0.000000e+00  0.000000e+00  0.000000e+00  0.000000e+00  0.000000e+00   \n",
      "max    1.000000e+00  1.000000e+00  1.000000e+00  1.000000e+00  1.000000e+00   \n",
      "\n",
      "            home_29       home_30       home_52       home_53       home_54   \n",
      "count  2.386587e+06  2.386587e+06  2.386587e+06  2.386587e+06  2.386587e+06  \\\n",
      "mean   2.951998e-02  2.889189e-02  3.212412e-02  2.981538e-02  3.786328e-02   \n",
      "std    1.692589e-01  1.675027e-01  1.763297e-01  1.700777e-01  1.908656e-01   \n",
      "min    0.000000e+00  0.000000e+00  0.000000e+00  0.000000e+00  0.000000e+00   \n",
      "25%    0.000000e+00  0.000000e+00  0.000000e+00  0.000000e+00  0.000000e+00   \n",
      "50%    0.000000e+00  0.000000e+00  0.000000e+00  0.000000e+00  0.000000e+00   \n",
      "75%    0.000000e+00  0.000000e+00  0.000000e+00  0.000000e+00  0.000000e+00   \n",
      "max    1.000000e+00  1.000000e+00  1.000000e+00  1.000000e+00  1.000000e+00   \n",
      "\n",
      "            home_55     home_7461        away_1        away_2        away_3   \n",
      "count  2.386587e+06  2.386587e+06  2.386587e+06  2.386587e+06  2.386587e+06  \\\n",
      "mean   1.073374e-02  1.257025e-06  3.088385e-02  3.334427e-02  3.142395e-02   \n",
      "std    1.030462e-01  1.121171e-03  1.730030e-01  1.795340e-01  1.744606e-01   \n",
      "min    0.000000e+00  0.000000e+00  0.000000e+00  0.000000e+00  0.000000e+00   \n",
      "25%    0.000000e+00  0.000000e+00  0.000000e+00  0.000000e+00  0.000000e+00   \n",
      "50%    0.000000e+00  0.000000e+00  0.000000e+00  0.000000e+00  0.000000e+00   \n",
      "75%    0.000000e+00  0.000000e+00  0.000000e+00  0.000000e+00  0.000000e+00   \n",
      "max    1.000000e+00  1.000000e+00  1.000000e+00  1.000000e+00  1.000000e+00   \n",
      "\n",
      "             away_4        away_5        away_6        away_7        away_8   \n",
      "count  2.386587e+06  2.386587e+06  2.386587e+06  2.386587e+06  2.386587e+06  \\\n",
      "mean   3.028760e-02  3.159659e-02  3.622495e-02  2.850514e-02  3.199129e-02   \n",
      "std    1.713776e-01  1.749236e-01  1.868495e-01  1.664110e-01  1.759769e-01   \n",
      "min    0.000000e+00  0.000000e+00  0.000000e+00  0.000000e+00  0.000000e+00   \n",
      "25%    0.000000e+00  0.000000e+00  0.000000e+00  0.000000e+00  0.000000e+00   \n",
      "50%    0.000000e+00  0.000000e+00  0.000000e+00  0.000000e+00  0.000000e+00   \n",
      "75%    0.000000e+00  0.000000e+00  0.000000e+00  0.000000e+00  0.000000e+00   \n",
      "max    1.000000e+00  1.000000e+00  1.000000e+00  1.000000e+00  1.000000e+00   \n",
      "\n",
      "             away_9       away_10       away_12       away_13       away_14   \n",
      "count  2.386587e+06  2.386587e+06  2.386587e+06  2.386587e+06  2.386587e+06  \\\n",
      "mean   3.031274e-02  3.244843e-02  3.318337e-02  3.252553e-02  3.685598e-02   \n",
      "std    1.714465e-01  1.771879e-01  1.791152e-01  1.773912e-01  1.884081e-01   \n",
      "min    0.000000e+00  0.000000e+00  0.000000e+00  0.000000e+00  0.000000e+00   \n",
      "25%    0.000000e+00  0.000000e+00  0.000000e+00  0.000000e+00  0.000000e+00   \n",
      "50%    0.000000e+00  0.000000e+00  0.000000e+00  0.000000e+00  0.000000e+00   \n",
      "75%    0.000000e+00  0.000000e+00  0.000000e+00  0.000000e+00  0.000000e+00   \n",
      "max    1.000000e+00  1.000000e+00  1.000000e+00  1.000000e+00  1.000000e+00   \n",
      "\n",
      "            away_15       away_16       away_17       away_18       away_19   \n",
      "count  2.386587e+06  2.386587e+06  2.386587e+06  2.386587e+06  2.386587e+06  \\\n",
      "mean   3.280082e-02  2.931927e-02  2.804507e-02  3.225652e-02  3.231267e-02   \n",
      "std    1.781149e-01  1.686999e-01  1.651017e-01  1.766807e-01  1.768292e-01   \n",
      "min    0.000000e+00  0.000000e+00  0.000000e+00  0.000000e+00  0.000000e+00   \n",
      "25%    0.000000e+00  0.000000e+00  0.000000e+00  0.000000e+00  0.000000e+00   \n",
      "50%    0.000000e+00  0.000000e+00  0.000000e+00  0.000000e+00  0.000000e+00   \n",
      "75%    0.000000e+00  0.000000e+00  0.000000e+00  0.000000e+00  0.000000e+00   \n",
      "max    1.000000e+00  1.000000e+00  1.000000e+00  1.000000e+00  1.000000e+00   \n",
      "\n",
      "            away_20       away_21       away_22       away_23       away_24   \n",
      "count  2.386587e+06  2.386587e+06  2.386587e+06  2.386587e+06  2.386587e+06  \\\n",
      "mean   3.246226e-02  3.458034e-02  3.172690e-02  3.084949e-02  2.928911e-02   \n",
      "std    1.772244e-01  1.827144e-01  1.752721e-01  1.729098e-01  1.686157e-01   \n",
      "min    0.000000e+00  0.000000e+00  0.000000e+00  0.000000e+00  0.000000e+00   \n",
      "25%    0.000000e+00  0.000000e+00  0.000000e+00  0.000000e+00  0.000000e+00   \n",
      "50%    0.000000e+00  0.000000e+00  0.000000e+00  0.000000e+00  0.000000e+00   \n",
      "75%    0.000000e+00  0.000000e+00  0.000000e+00  0.000000e+00  0.000000e+00   \n",
      "max    1.000000e+00  1.000000e+00  1.000000e+00  1.000000e+00  1.000000e+00   \n",
      "\n",
      "            away_25       away_26       away_28       away_29       away_30   \n",
      "count  2.386587e+06  2.386587e+06  2.386587e+06  2.386587e+06  2.386587e+06  \\\n",
      "mean   3.355545e-02  3.083441e-02  3.193473e-02  3.130537e-02  3.143820e-02   \n",
      "std    1.800819e-01  1.728689e-01  1.758264e-01  1.741418e-01  1.744989e-01   \n",
      "min    0.000000e+00  0.000000e+00  0.000000e+00  0.000000e+00  0.000000e+00   \n",
      "25%    0.000000e+00  0.000000e+00  0.000000e+00  0.000000e+00  0.000000e+00   \n",
      "50%    0.000000e+00  0.000000e+00  0.000000e+00  0.000000e+00  0.000000e+00   \n",
      "75%    0.000000e+00  0.000000e+00  0.000000e+00  0.000000e+00  0.000000e+00   \n",
      "max    1.000000e+00  1.000000e+00  1.000000e+00  1.000000e+00  1.000000e+00   \n",
      "\n",
      "            away_52       away_53       away_54       away_55     away_7460   \n",
      "count  2.386587e+06  2.386587e+06  2.386587e+06  2.386587e+06  2.386587e+06  \\\n",
      "mean   3.232482e-02  2.948939e-02  3.448984e-02  1.140038e-02  1.257025e-06   \n",
      "std    1.768614e-01  1.691738e-01  1.824837e-01  1.061622e-01  1.121171e-03   \n",
      "min    0.000000e+00  0.000000e+00  0.000000e+00  0.000000e+00  0.000000e+00   \n",
      "25%    0.000000e+00  0.000000e+00  0.000000e+00  0.000000e+00  0.000000e+00   \n",
      "50%    0.000000e+00  0.000000e+00  0.000000e+00  0.000000e+00  0.000000e+00   \n",
      "75%    0.000000e+00  0.000000e+00  0.000000e+00  0.000000e+00  0.000000e+00   \n",
      "max    1.000000e+00  1.000000e+00  1.000000e+00  1.000000e+00  1.000000e+00   \n",
      "\n",
      "        game_type_P   game_type_R  game_type_WA  \n",
      "count  2.386587e+06  2.386587e+06  2.386587e+06  \n",
      "mean   7.881590e-02  9.211828e-01  1.257025e-06  \n",
      "std    2.694513e-01  2.694532e-01  1.121171e-03  \n",
      "min    0.000000e+00  0.000000e+00  0.000000e+00  \n",
      "25%    0.000000e+00  1.000000e+00  0.000000e+00  \n",
      "50%    0.000000e+00  1.000000e+00  0.000000e+00  \n",
      "75%    0.000000e+00  1.000000e+00  0.000000e+00  \n",
      "max    1.000000e+00  1.000000e+00  1.000000e+00  \n"
     ]
    }
   ],
   "source": [
    "print(d_model_encoded.describe())"
   ]
  },
  {
   "cell_type": "code",
   "execution_count": 60,
   "metadata": {},
   "outputs": [
    {
     "name": "stdout",
     "output_type": "stream",
     "text": [
      "Home_Win_Bool     0\n",
      "season            0\n",
      "penaltyMinutes    0\n",
      "eventIdx          0\n",
      "period            0\n",
      "                 ..\n",
      "away_55           0\n",
      "away_7460         0\n",
      "game_type_P       0\n",
      "game_type_R       0\n",
      "game_type_WA      0\n",
      "Length: 102, dtype: int64\n"
     ]
    }
   ],
   "source": [
    "print(d_model_encoded.isnull().sum())"
   ]
  },
  {
   "cell_type": "code",
   "execution_count": 27,
   "metadata": {},
   "outputs": [
    {
     "ename": "NameError",
     "evalue": "name 'df' is not defined",
     "output_type": "error",
     "traceback": [
      "\u001B[1;31m---------------------------------------------------------------------------\u001B[0m",
      "\u001B[1;31mNameError\u001B[0m                                 Traceback (most recent call last)",
      "Cell \u001B[1;32mIn[27], line 1\u001B[0m\n\u001B[1;32m----> 1\u001B[0m \u001B[38;5;28;01mdel\u001B[39;00m [[\u001B[43mdf\u001B[49m,new_df,df_model]]\n\u001B[0;32m      2\u001B[0m gc\u001B[38;5;241m.\u001B[39mcollect()\n",
      "\u001B[1;31mNameError\u001B[0m: name 'df' is not defined"
     ]
    }
   ],
   "source": [
    "#del [[df,new_df,df_model]]\n",
    "#gc.collect()"
   ]
  },
  {
   "cell_type": "code",
   "execution_count": 37,
   "metadata": {},
   "outputs": [],
   "source": [
    "d_model_encoded = pd.read_csv('d_model_encoded3.csv')"
   ]
  },
  {
   "cell_type": "code",
   "execution_count": 61,
   "metadata": {},
   "outputs": [],
   "source": [
    "d_model_encoded['Home_Win_Bool']=d_model_encoded['Home_Win_Bool'].astype(int)\n",
    "d_model_encoded['season']=d_model_encoded['season'].astype(int)"
   ]
  },
  {
   "cell_type": "code",
   "execution_count": 62,
   "metadata": {},
   "outputs": [],
   "source": [
    "d_model_encoded = d_model_encoded.sort_index(axis=1)\n",
    "\n",
    "train=d_model_encoded.head(int(len(d_model_encoded.index)*.80))\n",
    "best=d_model_encoded.tail(int(len(d_model_encoded.index)*.05))\n",
    "validation=d_model_encoded.head(int(len(best.index)*.50))\n",
    "test=d_model_encoded.tail(int(len(best.index)*.50))\n",
    "\n",
    "train=train.sample(frac=1)"
   ]
  },
  {
   "cell_type": "code",
   "execution_count": 63,
   "metadata": {},
   "outputs": [],
   "source": [
    "train_x=train.drop('Home_Win_Bool',axis=1)\n",
    "train_y=train['Home_Win_Bool']\n",
    "test_x=test.drop('Home_Win_Bool',axis=1)\n",
    "test_y=test['Home_Win_Bool']\n",
    "val_x=validation.drop('Home_Win_Bool',axis=1)\n",
    "val_y=validation['Home_Win_Bool']"
   ]
  },
  {
   "cell_type": "code",
   "execution_count": 64,
   "outputs": [],
   "source": [
    "#train.to_csv('train_x.csv', index=False)\n",
    "\n",
    "train_columns = pd.DataFrame(columns=train_x.columns)\n",
    "train_columns.to_csv('train_df.csv', index=False)"
   ],
   "metadata": {
    "collapsed": false
   }
  },
  {
   "cell_type": "code",
   "execution_count": 65,
   "metadata": {},
   "outputs": [],
   "source": [
    "scaler = StandardScaler()\n",
    "train_x = scaler.fit_transform(train_x)\n",
    "test_x = scaler.transform(test_x)\n",
    "val_x = scaler.transform(val_x)\n",
    "\n",
    "with open(\"scalar_model.pkl\", \"wb\") as file:\n",
    "    pickle.dump(scaler, file)"
   ]
  },
  {
   "cell_type": "code",
   "execution_count": null,
   "metadata": {},
   "outputs": [],
   "source": [
    "model = Sequential([\n",
    "    Dense(train_x.shape[1], activation='relu', input_shape=(train_x.shape[1],)),\n",
    "    Dense(256, activation='relu'),\n",
    "    Dense(128, activation='relu'),\n",
    "    Dense(64, activation='relu'),\n",
    "    Dense(1, activation='sigmoid')\n",
    "])"
   ]
  },
  {
   "cell_type": "code",
   "execution_count": null,
   "metadata": {},
   "outputs": [],
   "source": [
    "\n",
    "logs = Callback()\n",
    "model.compile(optimizer=Adam(lr=0.001), loss='binary_crossentropy', metrics=['accuracy'])\n",
    "history = model.fit(train_x, train_y, validation_data=(val_x, val_y), epochs=20, batch_size=2048,callbacks=[logs])\n",
    "test_loss, test_accuracy = model.evaluate(test_x, test_y)\n",
    "print(f\"Test loss: {test_loss:.4f}, Test accuracy: {test_accuracy:.4f}\")"
   ]
  },
  {
   "cell_type": "code",
   "execution_count": null,
   "metadata": {},
   "outputs": [],
   "source": [
    "eval=model.evaluate(\n",
    "    x=test_x,\n",
    "    y=test_y,\n",
    "    batch_size=None,\n",
    "    verbose='auto',\n",
    "    sample_weight=None,\n",
    "    steps=None,\n",
    "    callbacks=None,\n",
    "    max_queue_size=10,\n",
    "    workers=1,\n",
    "    use_multiprocessing=False,\n",
    "    return_dict=True,\n",
    "   \n",
    ")"
   ]
  },
  {
   "cell_type": "code",
   "execution_count": null,
   "metadata": {},
   "outputs": [],
   "source": [
    "print(history.history.keys())\n",
    "# summarize history for accuracy\n",
    "plt.plot(history.history['accuracy'])\n",
    "plt.plot(history.history['val_accuracy'])\n",
    "plt.title('model accuracy')\n",
    "plt.ylabel('accuracy')\n",
    "plt.xlabel('epoch')\n",
    "plt.legend(['train', 'val'], loc='upper left')\n",
    "plt.show()\n",
    "# summarize history for loss\n",
    "plt.plot(history.history['loss'])\n",
    "plt.plot(history.history['val_loss'])\n",
    "plt.title('model loss')\n",
    "plt.ylabel('loss')\n",
    "plt.xlabel('epoch')\n",
    "plt.legend(['train', 'val'], loc='upper left')\n",
    "plt.show()"
   ]
  },
  {
   "cell_type": "code",
   "execution_count": null,
   "metadata": {},
   "outputs": [],
   "source": [
    "y_pred_probs = model.predict(test_x)\n",
    "y_pred = (y_pred_probs > 0.5).astype(int)"
   ]
  },
  {
   "cell_type": "code",
   "execution_count": null,
   "metadata": {},
   "outputs": [],
   "source": [
    "for i in y_pred:\n",
    "    print(i[0])"
   ]
  },
  {
   "cell_type": "code",
   "execution_count": null,
   "metadata": {},
   "outputs": [],
   "source": [
    "y_pred_probs\n",
    "p=[]\n",
    "for i in y_pred_probs:\n",
    "    print(np.around(i,decimals=4))\n",
    "    p.append(i)\n",
    "    "
   ]
  },
  {
   "cell_type": "code",
   "execution_count": null,
   "metadata": {},
   "outputs": [],
   "source": [
    "p"
   ]
  },
  {
   "cell_type": "code",
   "execution_count": null,
   "metadata": {},
   "outputs": [],
   "source": [
    "#logistic regression"
   ]
  },
  {
   "cell_type": "code",
   "execution_count": 66,
   "metadata": {},
   "outputs": [
    {
     "name": "stdout",
     "output_type": "stream",
     "text": [
      "Confusion Matrix:\n",
      "[[20863  9744]\n",
      " [ 4893 24164]]\n",
      "\n",
      "Classification Report:\n",
      "              precision    recall  f1-score   support\n",
      "\n",
      "           0       0.81      0.68      0.74     30607\n",
      "           1       0.71      0.83      0.77     29057\n",
      "\n",
      "    accuracy                           0.75     59664\n",
      "   macro avg       0.76      0.76      0.75     59664\n",
      "weighted avg       0.76      0.75      0.75     59664\n",
      "\n",
      "Accuracy Score:\n",
      "0.7546761866452132\n"
     ]
    }
   ],
   "source": [
    "\n",
    "\n",
    "\n",
    "\n",
    "# Create and train the logistic regression model\n",
    "logreg = LogisticRegression()\n",
    "logreg.fit(train_x, train_y)\n",
    "\n",
    "# Make predictions using the testing set\n",
    "y_pred = logreg.predict(test_x)\n",
    "\n",
    "# Evaluate the model\n",
    "print(\"Confusion Matrix:\")\n",
    "print(confusion_matrix(test_y, y_pred))\n",
    "print(\"\\nClassification Report:\")\n",
    "print(classification_report(test_y, y_pred))\n",
    "print(\"Accuracy Score:\")\n",
    "print(accuracy_score(test_y, y_pred))"
   ]
  },
  {
   "cell_type": "code",
   "execution_count": 67,
   "metadata": {},
   "outputs": [],
   "source": [
    "with open('logreg.pkl','wb') as file:\n",
    "    pickle.dump(logreg, file)"
   ]
  },
  {
   "cell_type": "code",
   "execution_count": null,
   "metadata": {},
   "outputs": [],
   "source": []
  },
  {
   "cell_type": "code",
   "execution_count": null,
   "metadata": {},
   "outputs": [],
   "source": []
  },
  {
   "cell_type": "code",
   "execution_count": null,
   "metadata": {},
   "outputs": [],
   "source": []
  },
  {
   "cell_type": "code",
   "execution_count": null,
   "metadata": {},
   "outputs": [],
   "source": []
  },
  {
   "cell_type": "code",
   "execution_count": null,
   "metadata": {},
   "outputs": [],
   "source": [
    "# Get an item by primary key\n",
    "def get_item(primary_key_value):\n",
    "    response = table.get_item(Key={'your_primary_key_name': primary_key_value})\n",
    "    return response.get('Item', None)\n",
    "\n",
    "# Update an item\n",
    "def update_item(primary_key_value, update_expression, expression_attribute_values):\n",
    "    response = table.update_item(\n",
    "        Key={'your_primary_key_name': primary_key_value},\n",
    "        UpdateExpression=update_expression,\n",
    "        ExpressionAttributeValues=expression_attribute_values,\n",
    "        ReturnValues=\"UPDATED_NEW\"\n",
    "    )\n",
    "    return response\n",
    "\n",
    "# Delete an item by primary key\n",
    "def delete_item(primary_key_value):\n",
    "    response = table.delete_item(Key={'your_primary_key_name': primary_key_value})\n",
    "    return response\n",
    "\n",
    "# Example usage\n",
    "item = {\n",
    "    'your_primary_key_name': 'example_id',\n",
    "    'attribute1': 'value1',\n",
    "    'attribute2': 'value2'\n",
    "}\n",
    "\n",
    "# Insert the item\n",
    "print(\"Inserting item:\")\n",
    "insert_response = insert_item(item)\n",
    "print(insert_response)\n",
    "\n",
    "# Get the item\n",
    "print(\"Getting item:\")\n",
    "get_response = get_item('example_id')\n",
    "print(get_response)\n",
    "\n",
    "# Update the item\n",
    "print(\"Updating item:\")\n",
    "update_response = update_item(\n",
    "    'example_id',\n",
    "    'SET attribute1 = :value',\n",
    "    {':value': 'updated_value1'}\n",
    ")\n",
    "print(update_response)\n",
    "\n",
    "# Delete the item\n",
    "print(\"Deleting item:\")\n",
    "delete_response = delete_item('example_id')\n",
    "print(delete_response)\n"
   ]
  }
 ],
 "metadata": {
  "kernelspec": {
   "display_name": "Python 3 (ipykernel)",
   "language": "python",
   "name": "python3"
  },
  "language_info": {
   "codemirror_mode": {
    "name": "ipython",
    "version": 3
   },
   "file_extension": ".py",
   "mimetype": "text/x-python",
   "name": "python",
   "nbconvert_exporter": "python",
   "pygments_lexer": "ipython3",
   "version": "3.11.3"
  }
 },
 "nbformat": 4,
 "nbformat_minor": 1
}
