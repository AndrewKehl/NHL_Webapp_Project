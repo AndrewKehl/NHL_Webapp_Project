{
 "cells": [
  {
   "cell_type": "code",
   "execution_count": null,
   "metadata": {
    "collapsed": true
   },
   "outputs": [],
   "source": [
    "import super_secrets\n",
    "import boto3\n",
    "import pandas as pd"
   ]
  },
  {
   "cell_type": "code",
   "execution_count": null,
   "outputs": [],
   "source": [
    "\n",
    "\n",
    "# Configure your AWS credentials and region\n",
    "aws_access_key_id = super_secrets.Access_key_ID\n",
    "aws_secret_access_key = super_secrets.Secret_access_key\n",
    "aws_region = super_secrets.aws_region\n",
    "\n",
    "table_name='nhl_events'\n",
    "\n",
    "# Initialize the DynamoDB client\n",
    "dynamodb = boto3.resource('dynamodb',\n",
    "                          aws_access_key_id=aws_access_key_id,\n",
    "                          aws_secret_access_key=aws_secret_access_key,\n",
    "                          region_name=aws_region)\n",
    "\n",
    "# Get the table object\n",
    "table = dynamodb.Table(table_name)\n",
    "\n",
    "\n"
   ],
   "metadata": {
    "collapsed": false
   }
  },
  {
   "cell_type": "code",
   "execution_count": null,
   "outputs": [],
   "source": [
    "def scan_table(table):\n",
    "    items = []\n",
    "    response = None\n",
    "    while response is None or 'LastEvaluatedKey' in response:\n",
    "        if response is not None and 'LastEvaluatedKey' in response:\n",
    "            response = table.scan(ExclusiveStartKey=response['LastEvaluatedKey'])\n",
    "        else:\n",
    "            response = table.scan()\n",
    "        items.extend(response['Items'])\n",
    "    return items"
   ],
   "metadata": {
    "collapsed": false
   }
  },
  {
   "cell_type": "code",
   "execution_count": null,
   "outputs": [],
   "source": [
    "items = scan_table(table)\n",
    "df = pd.DataFrame(items)\n",
    "print(df)"
   ],
   "metadata": {
    "collapsed": false
   }
  },
  {
   "cell_type": "code",
   "execution_count": null,
   "outputs": [],
   "source": [],
   "metadata": {
    "collapsed": false
   }
  },
  {
   "cell_type": "code",
   "execution_count": null,
   "outputs": [],
   "source": [],
   "metadata": {
    "collapsed": false
   }
  },
  {
   "cell_type": "code",
   "execution_count": null,
   "outputs": [],
   "source": [
    "# Get an item by primary key\n",
    "def get_item(primary_key_value):\n",
    "    response = table.get_item(Key={'your_primary_key_name': primary_key_value})\n",
    "    return response.get('Item', None)\n",
    "\n",
    "# Update an item\n",
    "def update_item(primary_key_value, update_expression, expression_attribute_values):\n",
    "    response = table.update_item(\n",
    "        Key={'your_primary_key_name': primary_key_value},\n",
    "        UpdateExpression=update_expression,\n",
    "        ExpressionAttributeValues=expression_attribute_values,\n",
    "        ReturnValues=\"UPDATED_NEW\"\n",
    "    )\n",
    "    return response\n",
    "\n",
    "# Delete an item by primary key\n",
    "def delete_item(primary_key_value):\n",
    "    response = table.delete_item(Key={'your_primary_key_name': primary_key_value})\n",
    "    return response\n",
    "\n",
    "# Example usage\n",
    "item = {\n",
    "    'your_primary_key_name': 'example_id',\n",
    "    'attribute1': 'value1',\n",
    "    'attribute2': 'value2'\n",
    "}\n",
    "\n",
    "# Insert the item\n",
    "print(\"Inserting item:\")\n",
    "insert_response = insert_item(item)\n",
    "print(insert_response)\n",
    "\n",
    "# Get the item\n",
    "print(\"Getting item:\")\n",
    "get_response = get_item('example_id')\n",
    "print(get_response)\n",
    "\n",
    "# Update the item\n",
    "print(\"Updating item:\")\n",
    "update_response = update_item(\n",
    "    'example_id',\n",
    "    'SET attribute1 = :value',\n",
    "    {':value': 'updated_value1'}\n",
    ")\n",
    "print(update_response)\n",
    "\n",
    "# Delete the item\n",
    "print(\"Deleting item:\")\n",
    "delete_response = delete_item('example_id')\n",
    "print(delete_response)\n"
   ],
   "metadata": {
    "collapsed": false
   }
  }
 ],
 "metadata": {
  "kernelspec": {
   "display_name": "Python 3",
   "language": "python",
   "name": "python3"
  },
  "language_info": {
   "codemirror_mode": {
    "name": "ipython",
    "version": 2
   },
   "file_extension": ".py",
   "mimetype": "text/x-python",
   "name": "python",
   "nbconvert_exporter": "python",
   "pygments_lexer": "ipython2",
   "version": "2.7.6"
  }
 },
 "nbformat": 4,
 "nbformat_minor": 0
}
